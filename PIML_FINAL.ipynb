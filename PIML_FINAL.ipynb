{
 "cells": [
  {
   "cell_type": "markdown",
   "id": "da701284",
   "metadata": {},
   "source": [
    "# Data Preprocessing for Modeling "
   ]
  },
  {
   "cell_type": "code",
   "execution_count": 1,
   "id": "a4f83534",
   "metadata": {},
   "outputs": [
    {
     "name": "stderr",
     "output_type": "stream",
     "text": [
      "/opt/anaconda3/lib/python3.9/site-packages/pandas/core/computation/expressions.py:21: UserWarning: Pandas requires version '2.8.4' or newer of 'numexpr' (version '2.7.3' currently installed).\n",
      "  from pandas.core.computation.check import NUMEXPR_INSTALLED\n",
      "/opt/anaconda3/lib/python3.9/site-packages/pandas/core/arrays/masked.py:60: UserWarning: Pandas requires version '1.3.6' or newer of 'bottleneck' (version '1.3.2' currently installed).\n",
      "  from pandas.core import (\n"
     ]
    }
   ],
   "source": [
    "# Standardizing all numeric variables \n",
    "from sklearn.preprocessing import StandardScaler\n",
    "from pyspark.sql.types import StringType \n",
    "from pyspark.sql.functions import col \n",
    "import numpy as np\n",
    "import pandas as pd \n",
    "\n",
    "from numpy import random \n",
    "random.seed(seed=12345)"
   ]
  },
  {
   "cell_type": "code",
   "execution_count": 2,
   "id": "460f7662",
   "metadata": {},
   "outputs": [],
   "source": [
    "import pandas as pd\n",
    "from glob import glob\n",
    "\n",
    "# Path to the CSV files\n",
    "path = '/GWSB/home/g35026169/Desktop/Andrew_s Data/Sample_*'\n",
    "\n",
    "# Use glob to match the pattern and get a list of file names\n",
    "files = glob(path)\n",
    "\n",
    "# Read each CSV file and store them in a list\n",
    "dfs = [pd.read_csv(file) for file in files]\n",
    "\n",
    "# Concatenate all DataFrames in the list into one\n",
    "df = pd.concat(dfs, ignore_index=True)"
   ]
  },
  {
   "cell_type": "code",
   "execution_count": 3,
   "id": "68a10d45",
   "metadata": {},
   "outputs": [
    {
     "data": {
      "text/html": [
       "<div>\n",
       "<style scoped>\n",
       "    .dataframe tbody tr th:only-of-type {\n",
       "        vertical-align: middle;\n",
       "    }\n",
       "\n",
       "    .dataframe tbody tr th {\n",
       "        vertical-align: top;\n",
       "    }\n",
       "\n",
       "    .dataframe thead th {\n",
       "        text-align: right;\n",
       "    }\n",
       "</style>\n",
       "<table border=\"1\" class=\"dataframe\">\n",
       "  <thead>\n",
       "    <tr style=\"text-align: right;\">\n",
       "      <th></th>\n",
       "      <th>CURRENT LOAN DELINQUENCY STATUS</th>\n",
       "      <th>LOAN AGE</th>\n",
       "      <th>CURRENT INTEREST RATE</th>\n",
       "      <th>ESTIMATED LOAN TO VALUE (ELTV)</th>\n",
       "      <th>DEFAULT</th>\n",
       "      <th>CREDIT SCORE</th>\n",
       "      <th>FIRST TIME HOMEBUYER FLAG</th>\n",
       "      <th>OCCUPANCY STATUS</th>\n",
       "      <th>ORIGINAL INTEREST RATE</th>\n",
       "      <th>PROPERTY TYPE</th>\n",
       "      <th>LOAN PURPOSE</th>\n",
       "      <th>SELLER NAME</th>\n",
       "      <th>OrigYear</th>\n",
       "      <th>OrigDate</th>\n",
       "      <th>index_sa</th>\n",
       "      <th>UNRATE</th>\n",
       "      <th>inflation</th>\n",
       "      <th>% Change in UPB</th>\n",
       "    </tr>\n",
       "  </thead>\n",
       "  <tbody>\n",
       "    <tr>\n",
       "      <th>0</th>\n",
       "      <td>0</td>\n",
       "      <td>0</td>\n",
       "      <td>7.375</td>\n",
       "      <td>Undefined</td>\n",
       "      <td>0</td>\n",
       "      <td>775</td>\n",
       "      <td>N</td>\n",
       "      <td>P</td>\n",
       "      <td>7.375</td>\n",
       "      <td>PU</td>\n",
       "      <td>N</td>\n",
       "      <td>Other sellers</td>\n",
       "      <td>2023</td>\n",
       "      <td>2023Q1</td>\n",
       "      <td>395.44</td>\n",
       "      <td>3.6</td>\n",
       "      <td>6.0</td>\n",
       "      <td>0.0000</td>\n",
       "    </tr>\n",
       "    <tr>\n",
       "      <th>1</th>\n",
       "      <td>0</td>\n",
       "      <td>1</td>\n",
       "      <td>7.375</td>\n",
       "      <td>0.9913</td>\n",
       "      <td>0</td>\n",
       "      <td>775</td>\n",
       "      <td>N</td>\n",
       "      <td>P</td>\n",
       "      <td>7.375</td>\n",
       "      <td>PU</td>\n",
       "      <td>N</td>\n",
       "      <td>Other sellers</td>\n",
       "      <td>2023</td>\n",
       "      <td>2023Q1</td>\n",
       "      <td>397.51</td>\n",
       "      <td>3.5</td>\n",
       "      <td>5.0</td>\n",
       "      <td>-0.0035</td>\n",
       "    </tr>\n",
       "    <tr>\n",
       "      <th>2</th>\n",
       "      <td>0</td>\n",
       "      <td>2</td>\n",
       "      <td>7.375</td>\n",
       "      <td>0.984</td>\n",
       "      <td>0</td>\n",
       "      <td>775</td>\n",
       "      <td>N</td>\n",
       "      <td>P</td>\n",
       "      <td>7.375</td>\n",
       "      <td>PU</td>\n",
       "      <td>N</td>\n",
       "      <td>Other sellers</td>\n",
       "      <td>2023</td>\n",
       "      <td>2023Q1</td>\n",
       "      <td>400.47</td>\n",
       "      <td>3.4</td>\n",
       "      <td>4.9</td>\n",
       "      <td>-0.0035</td>\n",
       "    </tr>\n",
       "    <tr>\n",
       "      <th>3</th>\n",
       "      <td>0</td>\n",
       "      <td>3</td>\n",
       "      <td>7.375</td>\n",
       "      <td>0.9767</td>\n",
       "      <td>0</td>\n",
       "      <td>775</td>\n",
       "      <td>N</td>\n",
       "      <td>P</td>\n",
       "      <td>7.375</td>\n",
       "      <td>PU</td>\n",
       "      <td>N</td>\n",
       "      <td>Other sellers</td>\n",
       "      <td>2023</td>\n",
       "      <td>2023Q1</td>\n",
       "      <td>403.44</td>\n",
       "      <td>3.7</td>\n",
       "      <td>4.0</td>\n",
       "      <td>-0.0035</td>\n",
       "    </tr>\n",
       "    <tr>\n",
       "      <th>4</th>\n",
       "      <td>0</td>\n",
       "      <td>4</td>\n",
       "      <td>7.375</td>\n",
       "      <td>0.9715</td>\n",
       "      <td>0</td>\n",
       "      <td>775</td>\n",
       "      <td>N</td>\n",
       "      <td>P</td>\n",
       "      <td>7.375</td>\n",
       "      <td>PU</td>\n",
       "      <td>N</td>\n",
       "      <td>Other sellers</td>\n",
       "      <td>2023</td>\n",
       "      <td>2023Q1</td>\n",
       "      <td>405.61</td>\n",
       "      <td>3.6</td>\n",
       "      <td>3.0</td>\n",
       "      <td>-0.0035</td>\n",
       "    </tr>\n",
       "  </tbody>\n",
       "</table>\n",
       "</div>"
      ],
      "text/plain": [
       "   CURRENT LOAN DELINQUENCY STATUS  LOAN AGE  CURRENT INTEREST RATE  \\\n",
       "0                                0         0                  7.375   \n",
       "1                                0         1                  7.375   \n",
       "2                                0         2                  7.375   \n",
       "3                                0         3                  7.375   \n",
       "4                                0         4                  7.375   \n",
       "\n",
       "  ESTIMATED LOAN TO VALUE (ELTV)  DEFAULT  CREDIT SCORE  \\\n",
       "0                      Undefined        0           775   \n",
       "1                         0.9913        0           775   \n",
       "2                          0.984        0           775   \n",
       "3                         0.9767        0           775   \n",
       "4                         0.9715        0           775   \n",
       "\n",
       "  FIRST TIME HOMEBUYER FLAG OCCUPANCY STATUS  ORIGINAL INTEREST RATE  \\\n",
       "0                         N                P                   7.375   \n",
       "1                         N                P                   7.375   \n",
       "2                         N                P                   7.375   \n",
       "3                         N                P                   7.375   \n",
       "4                         N                P                   7.375   \n",
       "\n",
       "  PROPERTY TYPE LOAN PURPOSE    SELLER NAME  OrigYear OrigDate  index_sa  \\\n",
       "0            PU            N  Other sellers      2023   2023Q1    395.44   \n",
       "1            PU            N  Other sellers      2023   2023Q1    397.51   \n",
       "2            PU            N  Other sellers      2023   2023Q1    400.47   \n",
       "3            PU            N  Other sellers      2023   2023Q1    403.44   \n",
       "4            PU            N  Other sellers      2023   2023Q1    405.61   \n",
       "\n",
       "   UNRATE  inflation  % Change in UPB  \n",
       "0     3.6        6.0           0.0000  \n",
       "1     3.5        5.0          -0.0035  \n",
       "2     3.4        4.9          -0.0035  \n",
       "3     3.7        4.0          -0.0035  \n",
       "4     3.6        3.0          -0.0035  "
      ]
     },
     "execution_count": 3,
     "metadata": {},
     "output_type": "execute_result"
    }
   ],
   "source": [
    "# Drop specified columns\n",
    "df = df.drop(columns=['LOAN SEQUENCE NUMBER','MONTHLY REPORTING PERIOD', 'CURRENT ACTUAL UPB', 'OrigQuarter'])\n",
    "df.head()"
   ]
  },
  {
   "cell_type": "code",
   "execution_count": 4,
   "id": "8e8bea0e",
   "metadata": {},
   "outputs": [],
   "source": [
    "full_timeseries = df.sort_values(by='OrigDate', ascending=True)"
   ]
  },
  {
   "cell_type": "code",
   "execution_count": 5,
   "id": "8ff44ecf",
   "metadata": {},
   "outputs": [],
   "source": [
    "full_timeseries = full_timeseries.dropna(subset=[\"% Change in UPB\"])"
   ]
  },
  {
   "cell_type": "code",
   "execution_count": 6,
   "id": "30f317d6",
   "metadata": {},
   "outputs": [
    {
     "data": {
      "text/html": [
       "<div>\n",
       "<style scoped>\n",
       "    .dataframe tbody tr th:only-of-type {\n",
       "        vertical-align: middle;\n",
       "    }\n",
       "\n",
       "    .dataframe tbody tr th {\n",
       "        vertical-align: top;\n",
       "    }\n",
       "\n",
       "    .dataframe thead th {\n",
       "        text-align: right;\n",
       "    }\n",
       "</style>\n",
       "<table border=\"1\" class=\"dataframe\">\n",
       "  <thead>\n",
       "    <tr style=\"text-align: right;\">\n",
       "      <th></th>\n",
       "      <th>CURRENT LOAN DELINQUENCY STATUS</th>\n",
       "      <th>LOAN AGE</th>\n",
       "      <th>CURRENT INTEREST RATE</th>\n",
       "      <th>ESTIMATED LOAN TO VALUE (ELTV)</th>\n",
       "      <th>DEFAULT</th>\n",
       "      <th>CREDIT SCORE</th>\n",
       "      <th>FIRST TIME HOMEBUYER FLAG</th>\n",
       "      <th>OCCUPANCY STATUS</th>\n",
       "      <th>ORIGINAL INTEREST RATE</th>\n",
       "      <th>PROPERTY TYPE</th>\n",
       "      <th>LOAN PURPOSE</th>\n",
       "      <th>SELLER NAME</th>\n",
       "      <th>OrigYear</th>\n",
       "      <th>OrigDate</th>\n",
       "      <th>index_sa</th>\n",
       "      <th>UNRATE</th>\n",
       "      <th>inflation</th>\n",
       "      <th>% Change in UPB</th>\n",
       "    </tr>\n",
       "  </thead>\n",
       "  <tbody>\n",
       "    <tr>\n",
       "      <th>4998</th>\n",
       "      <td>2</td>\n",
       "      <td>3</td>\n",
       "      <td>7.125</td>\n",
       "      <td>0.9802</td>\n",
       "      <td>0</td>\n",
       "      <td>770</td>\n",
       "      <td>Y</td>\n",
       "      <td>P</td>\n",
       "      <td>7.125</td>\n",
       "      <td>SF</td>\n",
       "      <td>P</td>\n",
       "      <td>ROCKET MORTGAGE, LLC</td>\n",
       "      <td>2023</td>\n",
       "      <td>2023Q1</td>\n",
       "      <td>403.44</td>\n",
       "      <td>3.7</td>\n",
       "      <td>4.0</td>\n",
       "      <td>0.00</td>\n",
       "    </tr>\n",
       "    <tr>\n",
       "      <th>4999</th>\n",
       "      <td>3</td>\n",
       "      <td>4</td>\n",
       "      <td>7.125</td>\n",
       "      <td>0.9749</td>\n",
       "      <td>0</td>\n",
       "      <td>770</td>\n",
       "      <td>Y</td>\n",
       "      <td>P</td>\n",
       "      <td>7.125</td>\n",
       "      <td>SF</td>\n",
       "      <td>P</td>\n",
       "      <td>ROCKET MORTGAGE, LLC</td>\n",
       "      <td>2023</td>\n",
       "      <td>2023Q1</td>\n",
       "      <td>405.61</td>\n",
       "      <td>3.6</td>\n",
       "      <td>3.0</td>\n",
       "      <td>0.00</td>\n",
       "    </tr>\n",
       "    <tr>\n",
       "      <th>5000</th>\n",
       "      <td>4</td>\n",
       "      <td>5</td>\n",
       "      <td>7.125</td>\n",
       "      <td>0.9668</td>\n",
       "      <td>0</td>\n",
       "      <td>770</td>\n",
       "      <td>Y</td>\n",
       "      <td>P</td>\n",
       "      <td>7.125</td>\n",
       "      <td>SF</td>\n",
       "      <td>P</td>\n",
       "      <td>ROCKET MORTGAGE, LLC</td>\n",
       "      <td>2023</td>\n",
       "      <td>2023Q1</td>\n",
       "      <td>409.00</td>\n",
       "      <td>3.5</td>\n",
       "      <td>3.2</td>\n",
       "      <td>0.00</td>\n",
       "    </tr>\n",
       "    <tr>\n",
       "      <th>5001</th>\n",
       "      <td>5</td>\n",
       "      <td>6</td>\n",
       "      <td>7.125</td>\n",
       "      <td>0.9597</td>\n",
       "      <td>0</td>\n",
       "      <td>770</td>\n",
       "      <td>Y</td>\n",
       "      <td>P</td>\n",
       "      <td>7.125</td>\n",
       "      <td>SF</td>\n",
       "      <td>P</td>\n",
       "      <td>ROCKET MORTGAGE, LLC</td>\n",
       "      <td>2023</td>\n",
       "      <td>2023Q1</td>\n",
       "      <td>412.04</td>\n",
       "      <td>3.8</td>\n",
       "      <td>3.7</td>\n",
       "      <td>0.00</td>\n",
       "    </tr>\n",
       "    <tr>\n",
       "      <th>5002</th>\n",
       "      <td>6</td>\n",
       "      <td>7</td>\n",
       "      <td>7.125</td>\n",
       "      <td>0.9541</td>\n",
       "      <td>1</td>\n",
       "      <td>770</td>\n",
       "      <td>Y</td>\n",
       "      <td>P</td>\n",
       "      <td>7.125</td>\n",
       "      <td>SF</td>\n",
       "      <td>P</td>\n",
       "      <td>ROCKET MORTGAGE, LLC</td>\n",
       "      <td>2023</td>\n",
       "      <td>2023Q1</td>\n",
       "      <td>414.98</td>\n",
       "      <td>3.8</td>\n",
       "      <td>3.7</td>\n",
       "      <td>0.12</td>\n",
       "    </tr>\n",
       "  </tbody>\n",
       "</table>\n",
       "</div>"
      ],
      "text/plain": [
       "      CURRENT LOAN DELINQUENCY STATUS  LOAN AGE  CURRENT INTEREST RATE  \\\n",
       "4998                                2         3                  7.125   \n",
       "4999                                3         4                  7.125   \n",
       "5000                                4         5                  7.125   \n",
       "5001                                5         6                  7.125   \n",
       "5002                                6         7                  7.125   \n",
       "\n",
       "     ESTIMATED LOAN TO VALUE (ELTV)  DEFAULT  CREDIT SCORE  \\\n",
       "4998                         0.9802        0           770   \n",
       "4999                         0.9749        0           770   \n",
       "5000                         0.9668        0           770   \n",
       "5001                         0.9597        0           770   \n",
       "5002                         0.9541        1           770   \n",
       "\n",
       "     FIRST TIME HOMEBUYER FLAG OCCUPANCY STATUS  ORIGINAL INTEREST RATE  \\\n",
       "4998                         Y                P                   7.125   \n",
       "4999                         Y                P                   7.125   \n",
       "5000                         Y                P                   7.125   \n",
       "5001                         Y                P                   7.125   \n",
       "5002                         Y                P                   7.125   \n",
       "\n",
       "     PROPERTY TYPE LOAN PURPOSE           SELLER NAME  OrigYear OrigDate  \\\n",
       "4998            SF            P  ROCKET MORTGAGE, LLC      2023   2023Q1   \n",
       "4999            SF            P  ROCKET MORTGAGE, LLC      2023   2023Q1   \n",
       "5000            SF            P  ROCKET MORTGAGE, LLC      2023   2023Q1   \n",
       "5001            SF            P  ROCKET MORTGAGE, LLC      2023   2023Q1   \n",
       "5002            SF            P  ROCKET MORTGAGE, LLC      2023   2023Q1   \n",
       "\n",
       "      index_sa  UNRATE  inflation  % Change in UPB  \n",
       "4998    403.44     3.7        4.0             0.00  \n",
       "4999    405.61     3.6        3.0             0.00  \n",
       "5000    409.00     3.5        3.2             0.00  \n",
       "5001    412.04     3.8        3.7             0.00  \n",
       "5002    414.98     3.8        3.7             0.12  "
      ]
     },
     "execution_count": 6,
     "metadata": {},
     "output_type": "execute_result"
    }
   ],
   "source": [
    "# Convert Decimal to Percentage in the % Change in UPB Column\n",
    "full_timeseries['% Change in UPB'] = full_timeseries['% Change in UPB'] * 100\n",
    "full_timeseries.tail()"
   ]
  },
  {
   "cell_type": "code",
   "execution_count": 7,
   "id": "6f8389be",
   "metadata": {},
   "outputs": [
    {
     "name": "stdout",
     "output_type": "stream",
     "text": [
      "Total number of rows in the DataFrame: 4998\n"
     ]
    }
   ],
   "source": [
    "total_rows = len(full_timeseries) \n",
    "print(f\"Total number of rows in the DataFrame: {total_rows}\")"
   ]
  },
  {
   "cell_type": "code",
   "execution_count": 8,
   "id": "e9120ab7",
   "metadata": {},
   "outputs": [],
   "source": [
    "# Reset the index \n",
    "full_timeseries.reset_index(drop=True, inplace=True)"
   ]
  },
  {
   "cell_type": "code",
   "execution_count": 9,
   "id": "9e2eb7db",
   "metadata": {},
   "outputs": [
    {
     "name": "stdout",
     "output_type": "stream",
     "text": [
      "End of test index (inclusive): 4997\n"
     ]
    }
   ],
   "source": [
    "# Now that the DataFrame is sorted and the index has been reset, fetch indices for 2022 and 2023\n",
    "end_test_idx = total_rows\n",
    "\n",
    "print(f\"End of test index (inclusive): {end_test_idx}\")"
   ]
  },
  {
   "cell_type": "code",
   "execution_count": 10,
   "id": "97111a9f",
   "metadata": {},
   "outputs": [
    {
     "name": "stdout",
     "output_type": "stream",
     "text": [
      "Training data ends at index: 3997\n",
      "Testing data starts at index: 3998 and ends at index: 4997\n"
     ]
    }
   ],
   "source": [
    "# Calculate the index that represents 80% of the data up to the end of 2023\n",
    "split_index = int(end_test_idx * 0.8)\n",
    "\n",
    "# Print the calculated split index\n",
    "print(f\"Training data ends at index: {split_index}\")\n",
    "print(f\"Testing data starts at index: {split_index + 1} and ends at index: {end_test_idx}\")"
   ]
  },
  {
   "cell_type": "code",
   "execution_count": 11,
   "id": "9a952dc2",
   "metadata": {},
   "outputs": [],
   "source": [
    "full_timeseries['ESTIMATED LOAN TO VALUE (ELTV)'] = pd.to_numeric(full_timeseries['ESTIMATED LOAN TO VALUE (ELTV)'], errors='coerce').fillna(-1)"
   ]
  },
  {
   "cell_type": "code",
   "execution_count": 12,
   "id": "1e267e5a",
   "metadata": {},
   "outputs": [
    {
     "name": "stdout",
     "output_type": "stream",
     "text": [
      "Is 'undefined' present in the ELTV column? False\n"
     ]
    }
   ],
   "source": [
    "contains_undefined = full_timeseries['ESTIMATED LOAN TO VALUE (ELTV)'].isin(['undefined']).any()\n",
    "\n",
    "print(\"Is 'undefined' present in the ELTV column?\", contains_undefined)"
   ]
  },
  {
   "cell_type": "code",
   "execution_count": 13,
   "id": "91c9672d",
   "metadata": {},
   "outputs": [],
   "source": [
    "full_timeseries['CURRENT LOAN DELINQUENCY STATUS'] = full_timeseries['CURRENT LOAN DELINQUENCY STATUS'].astype(str)\n",
    "full_timeseries['CURRENT INTEREST RATE'] = full_timeseries['CURRENT INTEREST RATE'].astype(np.float32)\n",
    "full_timeseries['ESTIMATED LOAN TO VALUE (ELTV)'] = full_timeseries['ESTIMATED LOAN TO VALUE (ELTV)'].astype(np.float32)\n",
    "full_timeseries['ORIGINAL INTEREST RATE'] = full_timeseries['ORIGINAL INTEREST RATE'].astype(np.float32)\n",
    "full_timeseries['index_sa'] = full_timeseries['index_sa'].astype(np.float32)\n",
    "full_timeseries['UNRATE'] = full_timeseries['UNRATE'].astype(np.float32)\n",
    "full_timeseries['inflation'] = full_timeseries['inflation'].astype(np.float32)\n",
    "full_timeseries['% Change in UPB'] = full_timeseries['% Change in UPB'].astype(np.float32)\n",
    "full_timeseries['OrigYear'] = full_timeseries['OrigYear'].astype(str)\n",
    "\n",
    "full_timeseries.drop(columns=['CURRENT LOAN DELINQUENCY STATUS'], inplace=True)\n",
    "full_timeseries.drop(columns=['LOAN AGE'], inplace=True)"
   ]
  },
  {
   "cell_type": "code",
   "execution_count": 14,
   "id": "a52f7a26",
   "metadata": {},
   "outputs": [
    {
     "name": "stdout",
     "output_type": "stream",
     "text": [
      "CURRENT INTEREST RATE             float32\n",
      "ESTIMATED LOAN TO VALUE (ELTV)    float32\n",
      "DEFAULT                             int64\n",
      "CREDIT SCORE                        int64\n",
      "FIRST TIME HOMEBUYER FLAG          object\n",
      "OCCUPANCY STATUS                   object\n",
      "ORIGINAL INTEREST RATE            float32\n",
      "PROPERTY TYPE                      object\n",
      "LOAN PURPOSE                       object\n",
      "SELLER NAME                        object\n",
      "OrigYear                           object\n",
      "OrigDate                           object\n",
      "index_sa                          float32\n",
      "UNRATE                            float32\n",
      "inflation                         float32\n",
      "% Change in UPB                   float32\n",
      "dtype: object\n"
     ]
    }
   ],
   "source": [
    "column_types = full_timeseries.dtypes\n",
    "print(column_types)"
   ]
  },
  {
   "cell_type": "markdown",
   "id": "e782fc61",
   "metadata": {},
   "source": [
    "# PiML "
   ]
  },
  {
   "cell_type": "code",
   "execution_count": 15,
   "id": "ec32a83c",
   "metadata": {},
   "outputs": [],
   "source": [
    "from piml import Experiment\n",
    "exp = Experiment()\n",
    "exp.data_loader(data = full_timeseries, silent=True)"
   ]
  },
  {
   "cell_type": "code",
   "execution_count": 16,
   "id": "9ac00e92",
   "metadata": {
    "scrolled": false
   },
   "outputs": [
    {
     "data": {
      "application/vnd.jupyter.widget-view+json": {
       "model_id": "56172dc21f03499fb9a7a2b91eb221ce",
       "version_major": 2,
       "version_minor": 0
      },
      "text/plain": [
       "HTML(value='\\n        <style>\\n\\n        .left-label {\\n            width: 30%;\\n        }\\n\\n        .card-pa…"
      ]
     },
     "metadata": {},
     "output_type": "display_data"
    },
    {
     "data": {
      "application/javascript": [
       "\n",
       "        IPython.OutputArea.prototype._should_scroll = function(lines) {\n",
       "            return false;\n",
       "        }"
      ],
      "text/plain": [
       "<IPython.core.display.Javascript object>"
      ]
     },
     "metadata": {},
     "output_type": "display_data"
    },
    {
     "data": {
      "text/html": [
       "<style type=\"text/css\">\n",
       "</style>\n",
       "<table id=\"T_e04f0\" style='display:inline'>\n",
       "  <caption>Numerical Attributes</caption>\n",
       "  <thead>\n",
       "    <tr>\n",
       "      <th class=\"blank level0\" >&nbsp;</th>\n",
       "      <th id=\"T_e04f0_level0_col0\" class=\"col_heading level0 col0\" >name</th>\n",
       "      <th id=\"T_e04f0_level0_col1\" class=\"col_heading level0 col1\" >n_missing</th>\n",
       "      <th id=\"T_e04f0_level0_col2\" class=\"col_heading level0 col2\" >mean</th>\n",
       "      <th id=\"T_e04f0_level0_col3\" class=\"col_heading level0 col3\" >std</th>\n",
       "      <th id=\"T_e04f0_level0_col4\" class=\"col_heading level0 col4\" >min</th>\n",
       "      <th id=\"T_e04f0_level0_col5\" class=\"col_heading level0 col5\" >q1</th>\n",
       "      <th id=\"T_e04f0_level0_col6\" class=\"col_heading level0 col6\" >median</th>\n",
       "      <th id=\"T_e04f0_level0_col7\" class=\"col_heading level0 col7\" >q3</th>\n",
       "      <th id=\"T_e04f0_level0_col8\" class=\"col_heading level0 col8\" >max</th>\n",
       "    </tr>\n",
       "  </thead>\n",
       "  <tbody>\n",
       "    <tr>\n",
       "      <th id=\"T_e04f0_level0_row0\" class=\"row_heading level0 row0\" >0</th>\n",
       "      <td id=\"T_e04f0_row0_col0\" class=\"data row0 col0\" >CURRENT INTEREST RATE</td>\n",
       "      <td id=\"T_e04f0_row0_col1\" class=\"data row0 col1\" >0</td>\n",
       "      <td id=\"T_e04f0_row0_col2\" class=\"data row0 col2\" >5.2220</td>\n",
       "      <td id=\"T_e04f0_row0_col3\" class=\"data row0 col3\" >1.3092</td>\n",
       "      <td id=\"T_e04f0_row0_col4\" class=\"data row0 col4\" >1.9990</td>\n",
       "      <td id=\"T_e04f0_row0_col5\" class=\"data row0 col5\" >4.2500</td>\n",
       "      <td id=\"T_e04f0_row0_col6\" class=\"data row0 col6\" >5.0000</td>\n",
       "      <td id=\"T_e04f0_row0_col7\" class=\"data row0 col7\" >6.1250</td>\n",
       "      <td id=\"T_e04f0_row0_col8\" class=\"data row0 col8\" >46.2500</td>\n",
       "    </tr>\n",
       "    <tr>\n",
       "      <th id=\"T_e04f0_level0_row1\" class=\"row_heading level0 row1\" >1</th>\n",
       "      <td id=\"T_e04f0_row1_col0\" class=\"data row1 col0\" >ESTIMATED LOAN TO VALUE (ELTV)</td>\n",
       "      <td id=\"T_e04f0_row1_col1\" class=\"data row1 col1\" >0</td>\n",
       "      <td id=\"T_e04f0_row1_col2\" class=\"data row1 col2\" >0.7952</td>\n",
       "      <td id=\"T_e04f0_row1_col3\" class=\"data row1 col3\" >0.3002</td>\n",
       "      <td id=\"T_e04f0_row1_col4\" class=\"data row1 col4\" >-1.0000</td>\n",
       "      <td id=\"T_e04f0_row1_col5\" class=\"data row1 col5\" >0.7130</td>\n",
       "      <td id=\"T_e04f0_row1_col6\" class=\"data row1 col6\" >0.8517</td>\n",
       "      <td id=\"T_e04f0_row1_col7\" class=\"data row1 col7\" >0.9607</td>\n",
       "      <td id=\"T_e04f0_row1_col8\" class=\"data row1 col8\" >2.3467</td>\n",
       "    </tr>\n",
       "    <tr>\n",
       "      <th id=\"T_e04f0_level0_row2\" class=\"row_heading level0 row2\" >2</th>\n",
       "      <td id=\"T_e04f0_row2_col0\" class=\"data row2 col0\" >CREDIT SCORE</td>\n",
       "      <td id=\"T_e04f0_row2_col1\" class=\"data row2 col1\" >0</td>\n",
       "      <td id=\"T_e04f0_row2_col2\" class=\"data row2 col2\" >732.4845</td>\n",
       "      <td id=\"T_e04f0_row2_col3\" class=\"data row2 col3\" >403.2014</td>\n",
       "      <td id=\"T_e04f0_row2_col4\" class=\"data row2 col4\" >300.0000</td>\n",
       "      <td id=\"T_e04f0_row2_col5\" class=\"data row2 col5\" >673.0000</td>\n",
       "      <td id=\"T_e04f0_row2_col6\" class=\"data row2 col6\" >719.0000</td>\n",
       "      <td id=\"T_e04f0_row2_col7\" class=\"data row2 col7\" >764.0000</td>\n",
       "      <td id=\"T_e04f0_row2_col8\" class=\"data row2 col8\" >9999.0000</td>\n",
       "    </tr>\n",
       "    <tr>\n",
       "      <th id=\"T_e04f0_level0_row3\" class=\"row_heading level0 row3\" >3</th>\n",
       "      <td id=\"T_e04f0_row3_col0\" class=\"data row3 col0\" >ORIGINAL INTEREST RATE</td>\n",
       "      <td id=\"T_e04f0_row3_col1\" class=\"data row3 col1\" >0</td>\n",
       "      <td id=\"T_e04f0_row3_col2\" class=\"data row3 col2\" >5.3453</td>\n",
       "      <td id=\"T_e04f0_row3_col3\" class=\"data row3 col3\" >1.2654</td>\n",
       "      <td id=\"T_e04f0_row3_col4\" class=\"data row3 col4\" >1.9990</td>\n",
       "      <td id=\"T_e04f0_row3_col5\" class=\"data row3 col5\" >4.3750</td>\n",
       "      <td id=\"T_e04f0_row3_col6\" class=\"data row3 col6\" >5.2500</td>\n",
       "      <td id=\"T_e04f0_row3_col7\" class=\"data row3 col7\" >6.2500</td>\n",
       "      <td id=\"T_e04f0_row3_col8\" class=\"data row3 col8\" >10.7500</td>\n",
       "    </tr>\n",
       "    <tr>\n",
       "      <th id=\"T_e04f0_level0_row4\" class=\"row_heading level0 row4\" >4</th>\n",
       "      <td id=\"T_e04f0_row4_col0\" class=\"data row4 col0\" >index_sa</td>\n",
       "      <td id=\"T_e04f0_row4_col1\" class=\"data row4 col1\" >0</td>\n",
       "      <td id=\"T_e04f0_row4_col2\" class=\"data row4 col2\" >241.5146</td>\n",
       "      <td id=\"T_e04f0_row4_col3\" class=\"data row4 col3\" >65.9347</td>\n",
       "      <td id=\"T_e04f0_row4_col4\" class=\"data row4 col4\" >136.8600</td>\n",
       "      <td id=\"T_e04f0_row4_col5\" class=\"data row4 col5\" >192.0200</td>\n",
       "      <td id=\"T_e04f0_row4_col6\" class=\"data row4 col6\" >220.7800</td>\n",
       "      <td id=\"T_e04f0_row4_col7\" class=\"data row4 col7\" >268.3800</td>\n",
       "      <td id=\"T_e04f0_row4_col8\" class=\"data row4 col8\" >414.9800</td>\n",
       "    </tr>\n",
       "    <tr>\n",
       "      <th id=\"T_e04f0_level0_row5\" class=\"row_heading level0 row5\" >5</th>\n",
       "      <td id=\"T_e04f0_row5_col0\" class=\"data row5 col0\" >UNRATE</td>\n",
       "      <td id=\"T_e04f0_row5_col1\" class=\"data row5 col1\" >0</td>\n",
       "      <td id=\"T_e04f0_row5_col2\" class=\"data row5 col2\" >5.8833</td>\n",
       "      <td id=\"T_e04f0_row5_col3\" class=\"data row5 col3\" >2.1356</td>\n",
       "      <td id=\"T_e04f0_row5_col4\" class=\"data row5 col4\" >3.4000</td>\n",
       "      <td id=\"T_e04f0_row5_col5\" class=\"data row5 col5\" >4.2000</td>\n",
       "      <td id=\"T_e04f0_row5_col6\" class=\"data row5 col6\" >5.1000</td>\n",
       "      <td id=\"T_e04f0_row5_col7\" class=\"data row5 col7\" >7.3000</td>\n",
       "      <td id=\"T_e04f0_row5_col8\" class=\"data row5 col8\" >14.8000</td>\n",
       "    </tr>\n",
       "    <tr>\n",
       "      <th id=\"T_e04f0_level0_row6\" class=\"row_heading level0 row6\" >6</th>\n",
       "      <td id=\"T_e04f0_row6_col0\" class=\"data row6 col0\" >inflation</td>\n",
       "      <td id=\"T_e04f0_row6_col1\" class=\"data row6 col1\" >0</td>\n",
       "      <td id=\"T_e04f0_row6_col2\" class=\"data row6 col2\" >2.5223</td>\n",
       "      <td id=\"T_e04f0_row6_col3\" class=\"data row6 col3\" >1.9701</td>\n",
       "      <td id=\"T_e04f0_row6_col4\" class=\"data row6 col4\" >-2.1000</td>\n",
       "      <td id=\"T_e04f0_row6_col5\" class=\"data row6 col5\" >1.4000</td>\n",
       "      <td id=\"T_e04f0_row6_col6\" class=\"data row6 col6\" >2.1000</td>\n",
       "      <td id=\"T_e04f0_row6_col7\" class=\"data row6 col7\" >3.2000</td>\n",
       "      <td id=\"T_e04f0_row6_col8\" class=\"data row6 col8\" >9.1000</td>\n",
       "    </tr>\n",
       "    <tr>\n",
       "      <th id=\"T_e04f0_level0_row7\" class=\"row_heading level0 row7\" >7</th>\n",
       "      <td id=\"T_e04f0_row7_col0\" class=\"data row7 col0\" >% Change in UPB</td>\n",
       "      <td id=\"T_e04f0_row7_col1\" class=\"data row7 col1\" >0</td>\n",
       "      <td id=\"T_e04f0_row7_col2\" class=\"data row7 col2\" >-0.0792</td>\n",
       "      <td id=\"T_e04f0_row7_col3\" class=\"data row7 col3\" >0.1332</td>\n",
       "      <td id=\"T_e04f0_row7_col4\" class=\"data row7 col4\" >-1.0000</td>\n",
       "      <td id=\"T_e04f0_row7_col5\" class=\"data row7 col5\" >-0.0971</td>\n",
       "      <td id=\"T_e04f0_row7_col6\" class=\"data row7 col6\" >-0.0451</td>\n",
       "      <td id=\"T_e04f0_row7_col7\" class=\"data row7 col7\" >-0.0166</td>\n",
       "      <td id=\"T_e04f0_row7_col8\" class=\"data row7 col8\" >1.3830</td>\n",
       "    </tr>\n",
       "  </tbody>\n",
       "</table>\n",
       "<style type=\"text/css\">\n",
       "</style>\n",
       "<table id=\"T_5fbe7\" style='display:inline'>\n",
       "  <caption>Categorical Attributes</caption>\n",
       "  <thead>\n",
       "    <tr>\n",
       "      <th class=\"blank level0\" >&nbsp;</th>\n",
       "      <th id=\"T_5fbe7_level0_col0\" class=\"col_heading level0 col0\" >name</th>\n",
       "      <th id=\"T_5fbe7_level0_col1\" class=\"col_heading level0 col1\" >n_missing</th>\n",
       "      <th id=\"T_5fbe7_level0_col2\" class=\"col_heading level0 col2\" >n_unique</th>\n",
       "      <th id=\"T_5fbe7_level0_col3\" class=\"col_heading level0 col3\" >top1</th>\n",
       "      <th id=\"T_5fbe7_level0_col4\" class=\"col_heading level0 col4\" >top2</th>\n",
       "      <th id=\"T_5fbe7_level0_col5\" class=\"col_heading level0 col5\" >top3</th>\n",
       "      <th id=\"T_5fbe7_level0_col6\" class=\"col_heading level0 col6\" >n_others</th>\n",
       "    </tr>\n",
       "  </thead>\n",
       "  <tbody>\n",
       "    <tr>\n",
       "      <th id=\"T_5fbe7_level0_row0\" class=\"row_heading level0 row0\" >0</th>\n",
       "      <td id=\"T_5fbe7_row0_col0\" class=\"data row0 col0\" >DEFAULT</td>\n",
       "      <td id=\"T_5fbe7_row0_col1\" class=\"data row0 col1\" >0</td>\n",
       "      <td id=\"T_5fbe7_row0_col2\" class=\"data row0 col2\" >2</td>\n",
       "      <td id=\"T_5fbe7_row0_col3\" class=\"data row0 col3\" >0.0 : 4269333</td>\n",
       "      <td id=\"T_5fbe7_row0_col4\" class=\"data row0 col4\" >1.0 : 419831</td>\n",
       "      <td id=\"T_5fbe7_row0_col5\" class=\"data row0 col5\" >0</td>\n",
       "      <td id=\"T_5fbe7_row0_col6\" class=\"data row0 col6\" >0</td>\n",
       "    </tr>\n",
       "    <tr>\n",
       "      <th id=\"T_5fbe7_level0_row1\" class=\"row_heading level0 row1\" >1</th>\n",
       "      <td id=\"T_5fbe7_row1_col0\" class=\"data row1 col0\" >FIRST TIME HOMEBUYER FLAG</td>\n",
       "      <td id=\"T_5fbe7_row1_col1\" class=\"data row1 col1\" >0</td>\n",
       "      <td id=\"T_5fbe7_row1_col2\" class=\"data row1 col2\" >3</td>\n",
       "      <td id=\"T_5fbe7_row1_col3\" class=\"data row1 col3\" >N : 4071092</td>\n",
       "      <td id=\"T_5fbe7_row1_col4\" class=\"data row1 col4\" >Y : 617879</td>\n",
       "      <td id=\"T_5fbe7_row1_col5\" class=\"data row1 col5\" >9 : 193</td>\n",
       "      <td id=\"T_5fbe7_row1_col6\" class=\"data row1 col6\" >0</td>\n",
       "    </tr>\n",
       "    <tr>\n",
       "      <th id=\"T_5fbe7_level0_row2\" class=\"row_heading level0 row2\" >2</th>\n",
       "      <td id=\"T_5fbe7_row2_col0\" class=\"data row2 col0\" >OCCUPANCY STATUS</td>\n",
       "      <td id=\"T_5fbe7_row2_col1\" class=\"data row2 col1\" >0</td>\n",
       "      <td id=\"T_5fbe7_row2_col2\" class=\"data row2 col2\" >3</td>\n",
       "      <td id=\"T_5fbe7_row2_col3\" class=\"data row2 col3\" >P : 4232195</td>\n",
       "      <td id=\"T_5fbe7_row2_col4\" class=\"data row2 col4\" >I : 301236</td>\n",
       "      <td id=\"T_5fbe7_row2_col5\" class=\"data row2 col5\" >S : 155733</td>\n",
       "      <td id=\"T_5fbe7_row2_col6\" class=\"data row2 col6\" >0</td>\n",
       "    </tr>\n",
       "    <tr>\n",
       "      <th id=\"T_5fbe7_level0_row3\" class=\"row_heading level0 row3\" >3</th>\n",
       "      <td id=\"T_5fbe7_row3_col0\" class=\"data row3 col0\" >PROPERTY TYPE</td>\n",
       "      <td id=\"T_5fbe7_row3_col1\" class=\"data row3 col1\" >0</td>\n",
       "      <td id=\"T_5fbe7_row3_col2\" class=\"data row3 col2\" >6</td>\n",
       "      <td id=\"T_5fbe7_row3_col3\" class=\"data row3 col3\" >SF : 3745826</td>\n",
       "      <td id=\"T_5fbe7_row3_col4\" class=\"data row3 col4\" >PU : 572753</td>\n",
       "      <td id=\"T_5fbe7_row3_col5\" class=\"data row3 col5\" >CO : 303031</td>\n",
       "      <td id=\"T_5fbe7_row3_col6\" class=\"data row3 col6\" >67554</td>\n",
       "    </tr>\n",
       "    <tr>\n",
       "      <th id=\"T_5fbe7_level0_row4\" class=\"row_heading level0 row4\" >4</th>\n",
       "      <td id=\"T_5fbe7_row4_col0\" class=\"data row4 col0\" >LOAN PURPOSE</td>\n",
       "      <td id=\"T_5fbe7_row4_col1\" class=\"data row4 col1\" >0</td>\n",
       "      <td id=\"T_5fbe7_row4_col2\" class=\"data row4 col2\" >3</td>\n",
       "      <td id=\"T_5fbe7_row4_col3\" class=\"data row4 col3\" >P : 1832745</td>\n",
       "      <td id=\"T_5fbe7_row4_col4\" class=\"data row4 col4\" >N : 1628546</td>\n",
       "      <td id=\"T_5fbe7_row4_col5\" class=\"data row4 col5\" >C : 1227873</td>\n",
       "      <td id=\"T_5fbe7_row4_col6\" class=\"data row4 col6\" >0</td>\n",
       "    </tr>\n",
       "    <tr>\n",
       "      <th id=\"T_5fbe7_level0_row5\" class=\"row_heading level0 row5\" >5</th>\n",
       "      <td id=\"T_5fbe7_row5_col0\" class=\"data row5 col0\" >SELLER NAME</td>\n",
       "      <td id=\"T_5fbe7_row5_col1\" class=\"data row5 col1\" >0</td>\n",
       "      <td id=\"T_5fbe7_row5_col2\" class=\"data row5 col2\" >96</td>\n",
       "      <td id=\"T_5fbe7_row5_col3\" class=\"data row5 col3\" >Other sell : 2433082</td>\n",
       "      <td id=\"T_5fbe7_row5_col4\" class=\"data row5 col4\" >WELLS FARG : 317236</td>\n",
       "      <td id=\"T_5fbe7_row5_col5\" class=\"data row5 col5\" >COUNTRYWID : 184306</td>\n",
       "      <td id=\"T_5fbe7_row5_col6\" class=\"data row5 col6\" >1754540</td>\n",
       "    </tr>\n",
       "    <tr>\n",
       "      <th id=\"T_5fbe7_level0_row6\" class=\"row_heading level0 row6\" >6</th>\n",
       "      <td id=\"T_5fbe7_row6_col0\" class=\"data row6 col0\" >OrigYear</td>\n",
       "      <td id=\"T_5fbe7_row6_col1\" class=\"data row6 col1\" >0</td>\n",
       "      <td id=\"T_5fbe7_row6_col2\" class=\"data row6 col2\" >24</td>\n",
       "      <td id=\"T_5fbe7_row6_col3\" class=\"data row6 col3\" >2003.0 : 316577</td>\n",
       "      <td id=\"T_5fbe7_row6_col4\" class=\"data row6 col4\" >2004.0 : 298012</td>\n",
       "      <td id=\"T_5fbe7_row6_col5\" class=\"data row6 col5\" >2005.0 : 284833</td>\n",
       "      <td id=\"T_5fbe7_row6_col6\" class=\"data row6 col6\" >3789742</td>\n",
       "    </tr>\n",
       "    <tr>\n",
       "      <th id=\"T_5fbe7_level0_row7\" class=\"row_heading level0 row7\" >7</th>\n",
       "      <td id=\"T_5fbe7_row7_col0\" class=\"data row7 col0\" >OrigDate</td>\n",
       "      <td id=\"T_5fbe7_row7_col1\" class=\"data row7 col1\" >0</td>\n",
       "      <td id=\"T_5fbe7_row7_col2\" class=\"data row7 col2\" >94</td>\n",
       "      <td id=\"T_5fbe7_row7_col3\" class=\"data row7 col3\" >2003Q3 : 85785</td>\n",
       "      <td id=\"T_5fbe7_row7_col4\" class=\"data row7 col4\" >2003Q2 : 79417</td>\n",
       "      <td id=\"T_5fbe7_row7_col5\" class=\"data row7 col5\" >2004Q2 : 78070</td>\n",
       "      <td id=\"T_5fbe7_row7_col6\" class=\"data row7 col6\" >4445892</td>\n",
       "    </tr>\n",
       "  </tbody>\n",
       "</table>\n"
      ]
     },
     "metadata": {},
     "output_type": "display_data"
    },
    {
     "name": "stdout",
     "output_type": "stream",
     "text": [
      "Data Shape:(4689164, 16)\n"
     ]
    }
   ],
   "source": [
    "exp.data_summary(feature_exclude=[], feature_type={\"OrigYear\": \"categorical\"})"
   ]
  },
  {
   "cell_type": "code",
   "execution_count": 17,
   "id": "03248f02",
   "metadata": {},
   "outputs": [
    {
     "data": {
      "application/vnd.jupyter.widget-view+json": {
       "model_id": "e43a167eeb85415f9add0d372105dd0b",
       "version_major": 2,
       "version_minor": 0
      },
      "text/plain": [
       "HTML(value='\\n        <style>\\n\\n        .left-label {\\n            width: 30%;\\n        }\\n\\n        .card-pa…"
      ]
     },
     "metadata": {},
     "output_type": "display_data"
    },
    {
     "data": {
      "application/javascript": [
       "\n",
       "        IPython.OutputArea.prototype._should_scroll = function(lines) {\n",
       "            return false;\n",
       "        }"
      ],
      "text/plain": [
       "<IPython.core.display.Javascript object>"
      ]
     },
     "metadata": {},
     "output_type": "display_data"
    },
    {
     "data": {
      "text/html": [
       "<div>\n",
       "<style scoped>\n",
       "    .dataframe tbody tr th:only-of-type {\n",
       "        vertical-align: middle;\n",
       "    }\n",
       "\n",
       "    .dataframe tbody tr th {\n",
       "        vertical-align: top;\n",
       "    }\n",
       "\n",
       "    .dataframe thead th {\n",
       "        text-align: right;\n",
       "    }\n",
       "</style>\n",
       "<table border=\"1\" class=\"dataframe\">\n",
       "  <thead>\n",
       "    <tr style=\"text-align: right;\">\n",
       "      <th></th>\n",
       "      <th>Config</th>\n",
       "      <th>Value</th>\n",
       "    </tr>\n",
       "  </thead>\n",
       "  <tbody>\n",
       "    <tr>\n",
       "      <th>0</th>\n",
       "      <td>Excluded columns</td>\n",
       "      <td>[]</td>\n",
       "    </tr>\n",
       "    <tr>\n",
       "      <th>1</th>\n",
       "      <td>Target variable</td>\n",
       "      <td>DEFAULT</td>\n",
       "    </tr>\n",
       "    <tr>\n",
       "      <th>2</th>\n",
       "      <td>Sample weight</td>\n",
       "      <td>None</td>\n",
       "    </tr>\n",
       "    <tr>\n",
       "      <th>3</th>\n",
       "      <td>Task type</td>\n",
       "      <td>classification</td>\n",
       "    </tr>\n",
       "    <tr>\n",
       "      <th>4</th>\n",
       "      <td>Split method</td>\n",
       "      <td>manual</td>\n",
       "    </tr>\n",
       "    <tr>\n",
       "      <th>5</th>\n",
       "      <td>Test ratio</td>\n",
       "      <td>0.2</td>\n",
       "    </tr>\n",
       "    <tr>\n",
       "      <th>6</th>\n",
       "      <td>Random state</td>\n",
       "      <td>12345</td>\n",
       "    </tr>\n",
       "  </tbody>\n",
       "</table>\n",
       "</div>"
      ],
      "text/plain": [
       "             Config           Value\n",
       "0  Excluded columns              []\n",
       "1   Target variable         DEFAULT\n",
       "2     Sample weight            None\n",
       "3         Task type  classification\n",
       "4      Split method          manual\n",
       "5        Test ratio             0.2\n",
       "6      Random state           12345"
      ]
     },
     "metadata": {},
     "output_type": "display_data"
    }
   ],
   "source": [
    "custom_train_idx = np.arange(0, 3751330)\n",
    "custom_test_idx = np.arange(3751331, 4689163)\n",
    "exp.data_prepare(target='DEFAULT', task_type='classification', sample_weight=None,\n",
    "                train_idx=custom_train_idx, test_idx=custom_test_idx, random_state = 12345)"
   ]
  },
  {
   "cell_type": "code",
   "execution_count": 18,
   "id": "0e23550a",
   "metadata": {
    "scrolled": true
   },
   "outputs": [
    {
     "data": {
      "application/vnd.jupyter.widget-view+json": {
       "model_id": "6b10457a83774a699a4eec050841538e",
       "version_major": 2,
       "version_minor": 0
      },
      "text/plain": [
       "HTML(value='\\n        <style>\\n\\n        .left-label {\\n            width: 30%;\\n        }\\n\\n        .card-pa…"
      ]
     },
     "metadata": {},
     "output_type": "display_data"
    },
    {
     "data": {
      "application/javascript": [
       "\n",
       "        IPython.OutputArea.prototype._should_scroll = function(lines) {\n",
       "            return false;\n",
       "        }"
      ],
      "text/plain": [
       "<IPython.core.display.Javascript object>"
      ]
     },
     "metadata": {},
     "output_type": "display_data"
    },
    {
     "data": {
      "text/html": [
       "<link rel=\"stylesheet\" href=\"https://stackpath.bootstrapcdn.com/font-awesome/4.7.0/css/font-awesome.min.css\"> "
      ],
      "text/plain": [
       "<IPython.core.display.HTML object>"
      ]
     },
     "metadata": {},
     "output_type": "display_data"
    },
    {
     "data": {
      "application/vnd.jupyter.widget-view+json": {
       "model_id": "1c4a854481d24affa8d0381f9dbb2608",
       "version_major": 2,
       "version_minor": 0
      },
      "text/plain": [
       "VBox(children=(Box(children=(Box(children=(HTML(value=\"<h4 style='margin: 10px 0px;'>Choose Model</h4>\"), Box(…"
      ]
     },
     "metadata": {},
     "output_type": "display_data"
    }
   ],
   "source": [
    "np.random.seed(12345) \n",
    "exp.model_train()"
   ]
  },
  {
   "cell_type": "code",
   "execution_count": 19,
   "id": "78f743c7",
   "metadata": {
    "scrolled": true
   },
   "outputs": [
    {
     "data": {
      "application/vnd.jupyter.widget-view+json": {
       "model_id": "618fe7e62df64b76ad1ad440fb825850",
       "version_major": 2,
       "version_minor": 0
      },
      "text/plain": [
       "HTML(value='\\n        <style>\\n\\n        .left-label {\\n            width: 30%;\\n        }\\n\\n        .card-pa…"
      ]
     },
     "metadata": {},
     "output_type": "display_data"
    },
    {
     "data": {
      "application/javascript": [
       "\n",
       "        IPython.OutputArea.prototype._should_scroll = function(lines) {\n",
       "            return false;\n",
       "        }"
      ],
      "text/plain": [
       "<IPython.core.display.Javascript object>"
      ]
     },
     "metadata": {},
     "output_type": "display_data"
    },
    {
     "data": {
      "application/vnd.jupyter.widget-view+json": {
       "model_id": "2bef43606dc947829a6fe3265795a8ba",
       "version_major": 2,
       "version_minor": 0
      },
      "text/plain": [
       "VBox(children=(Dropdown(layout=Layout(width='20%'), options=('Select Model', 'XGB2', 'XGB2_v2'), style=Descrip…"
      ]
     },
     "metadata": {},
     "output_type": "display_data"
    }
   ],
   "source": [
    "np.random.seed(12345) \n",
    "exp.model_interpret()"
   ]
  },
  {
   "cell_type": "code",
   "execution_count": null,
   "id": "ffe21364",
   "metadata": {},
   "outputs": [],
   "source": [
    "np.random.seed(12345)\n",
    "exp.model_diagnose()"
   ]
  }
 ],
 "metadata": {
  "kernelspec": {
   "display_name": "Python 3 (ipykernel)",
   "language": "python",
   "name": "python3"
  },
  "language_info": {
   "codemirror_mode": {
    "name": "ipython",
    "version": 3
   },
   "file_extension": ".py",
   "mimetype": "text/x-python",
   "name": "python",
   "nbconvert_exporter": "python",
   "pygments_lexer": "ipython3",
   "version": "3.9.7"
  }
 },
 "nbformat": 4,
 "nbformat_minor": 5
}
