{
 "cells": [
  {
   "cell_type": "markdown",
   "id": "da701284",
   "metadata": {},
   "source": [
    "# Data Preprocessing for Modeling - Finding Model Hyperparameters"
   ]
  },
  {
   "cell_type": "markdown",
   "id": "594492b0",
   "metadata": {},
   "source": [
    "### Since the full dataset is too large to run through the model tuning code with the grid method, a smaller sample is created just for the purpose of finding model hyperparameters."
   ]
  },
  {
   "cell_type": "code",
   "execution_count": 18,
   "id": "a4f83534",
   "metadata": {},
   "outputs": [
    {
     "data": {
      "application/vnd.jupyter.widget-view+json": {
       "model_id": "0a0c5674826a484881ca9de1d111ac23",
       "version_major": 2,
       "version_minor": 0
      },
      "text/plain": [
       "HTML(value='\\n        <style>\\n\\n        .left-label {\\n            width: 30%;\\n        }\\n\\n        .card-pa…"
      ]
     },
     "metadata": {},
     "output_type": "display_data"
    },
    {
     "data": {
      "application/javascript": [
       "\n",
       "        IPython.OutputArea.prototype._should_scroll = function(lines) {\n",
       "            return false;\n",
       "        }"
      ],
      "text/plain": [
       "<IPython.core.display.Javascript object>"
      ]
     },
     "metadata": {},
     "output_type": "display_data"
    }
   ],
   "source": [
    "from sklearn.preprocessing import StandardScaler\n",
    "from pyspark.sql.types import StringType \n",
    "from pyspark.sql.functions import col \n",
    "import numpy as np\n",
    "import pandas as pd \n",
    "\n",
    "from numpy import random \n",
    "random.seed(seed=12345)"
   ]
  },
  {
   "cell_type": "code",
   "execution_count": null,
   "id": "2c836843",
   "metadata": {},
   "outputs": [],
   "source": [
    "import pandas as pd\n",
    "from glob import glob\n",
    "\n",
    "# Path to all Sample CSV files\n",
    "path = '/GWSB/home/g35026169/Desktop/Andrew_s Data/Sample_*'\n",
    "\n",
    "# Use glob to match the pattern and get a list of file names\n",
    "files = glob(path)\n",
    "\n",
    "# Read each CSV file and store them in a list\n",
    "dfs = [pd.read_csv(file) for file in files]\n",
    "\n",
    "# Concatenate all DataFrames in the list into one\n",
    "df = pd.concat(dfs, ignore_index=True)"
   ]
  },
  {
   "cell_type": "code",
   "execution_count": null,
   "id": "2f2f6227",
   "metadata": {},
   "outputs": [],
   "source": [
    "import pandas as pd\n",
    "\n",
    "# Drop duplicates based on the loan sequence number to identify unique loans\n",
    "unique_loans = df.drop_duplicates(subset=['LOAN SEQUENCE NUMBER'])\n",
    "\n",
    "# Sample 10 loans from each year, stratified by delinquency status if needed\n",
    "sampled_loans = unique_loans.groupby(['OrigYear']).sample(n=300,random_state=12345)\n",
    "\n",
    "# Retrieve all activities for the sampled loans\n",
    "final_sample = df[df['LOAN SEQUENCE NUMBER'].isin(sampled_loans['LOAN SEQUENCE NUMBER'])]\n",
    "\n",
    "# Save or analyze your final sample\n",
    "final_sample.to_csv('/GWSB/home/g35026169/Desktop/sampleforparameter.csv')  # Saving to a CSV file"
   ]
  },
  {
   "cell_type": "markdown",
   "id": "898eaaef",
   "metadata": {},
   "source": [
    "### Small sample is ran through both XGB1 and XGB2 models to obtain hyperparameters via the grid method"
   ]
  },
  {
   "cell_type": "code",
   "execution_count": 19,
   "id": "460f7662",
   "metadata": {},
   "outputs": [
    {
     "data": {
      "application/vnd.jupyter.widget-view+json": {
       "model_id": "8ecbf6b547114b42961c389d7b76c770",
       "version_major": 2,
       "version_minor": 0
      },
      "text/plain": [
       "HTML(value='\\n        <style>\\n\\n        .left-label {\\n            width: 30%;\\n        }\\n\\n        .card-pa…"
      ]
     },
     "metadata": {},
     "output_type": "display_data"
    },
    {
     "data": {
      "application/javascript": [
       "\n",
       "        IPython.OutputArea.prototype._should_scroll = function(lines) {\n",
       "            return false;\n",
       "        }"
      ],
      "text/plain": [
       "<IPython.core.display.Javascript object>"
      ]
     },
     "metadata": {},
     "output_type": "display_data"
    }
   ],
   "source": [
    "import pandas as pd\n",
    "from glob import glob\n",
    "\n",
    "# Path to the CSV files\n",
    "path = 'sampleforparameter.csv'\n",
    "\n",
    "# Use glob to match the pattern and get a list of file names\n",
    "files = glob(path)\n",
    "\n",
    "# Read each CSV file and store them in a list\n",
    "dfs = [pd.read_csv(file) for file in files]\n",
    "\n",
    "# Concatenate all DataFrames in the list into one\n",
    "df = pd.concat(dfs, ignore_index=True)"
   ]
  },
  {
   "cell_type": "code",
   "execution_count": 20,
   "id": "8e8bea0e",
   "metadata": {},
   "outputs": [
    {
     "data": {
      "application/vnd.jupyter.widget-view+json": {
       "model_id": "265b1c29e581410b86469f371c7bfbd5",
       "version_major": 2,
       "version_minor": 0
      },
      "text/plain": [
       "HTML(value='\\n        <style>\\n\\n        .left-label {\\n            width: 30%;\\n        }\\n\\n        .card-pa…"
      ]
     },
     "metadata": {},
     "output_type": "display_data"
    },
    {
     "data": {
      "application/javascript": [
       "\n",
       "        IPython.OutputArea.prototype._should_scroll = function(lines) {\n",
       "            return false;\n",
       "        }"
      ],
      "text/plain": [
       "<IPython.core.display.Javascript object>"
      ]
     },
     "metadata": {},
     "output_type": "display_data"
    }
   ],
   "source": [
    "full_timeseries = df.sort_values(by='OrigDate', ascending=True)\n",
    "\n",
    "# Drop specified columns\n",
    "full_timeseries = full_timeseries.drop(columns=['LOAN SEQUENCE NUMBER','MONTHLY REPORTING PERIOD', 'CURRENT ACTUAL UPB', 'OrigQuarter'])\n",
    "\n",
    "# Convert Decimal to Percentage in the % Change in UPB Column\n",
    "full_timeseries['% Change in UPB'] = full_timeseries['% Change in UPB'] * 100\n",
    "\n",
    "# Making undefined ETLV values -1\n",
    "full_timeseries['ESTIMATED LOAN TO VALUE (ELTV)'] = pd.to_numeric(full_timeseries['ESTIMATED LOAN TO VALUE (ELTV)'], errors='coerce').fillna(-1)\n",
    "\n",
    "full_timeseries['CURRENT LOAN DELINQUENCY STATUS'] = full_timeseries['CURRENT LOAN DELINQUENCY STATUS'].astype(str)\n",
    "full_timeseries['CURRENT INTEREST RATE'] = full_timeseries['CURRENT INTEREST RATE'].astype(np.float32)\n",
    "full_timeseries['ESTIMATED LOAN TO VALUE (ELTV)'] = full_timeseries['ESTIMATED LOAN TO VALUE (ELTV)'].astype(np.float32)\n",
    "full_timeseries['ORIGINAL INTEREST RATE'] = full_timeseries['ORIGINAL INTEREST RATE'].astype(np.float32)\n",
    "full_timeseries['index_sa'] = full_timeseries['index_sa'].astype(np.float32)\n",
    "full_timeseries['UNRATE'] = full_timeseries['UNRATE'].astype(np.float32)\n",
    "full_timeseries['inflation'] = full_timeseries['inflation'].astype(np.float32)\n",
    "full_timeseries['% Change in UPB'] = full_timeseries['% Change in UPB'].astype(np.float32)\n",
    "\n",
    "full_timeseries.drop(columns=['CURRENT LOAN DELINQUENCY STATUS'], inplace=True)\n",
    "full_timeseries.drop(columns=['LOAN AGE'], inplace=True)\n",
    "full_timeseries.drop(columns=['Unnamed: 0'], inplace=True)"
   ]
  },
  {
   "cell_type": "code",
   "execution_count": 21,
   "id": "95b0eef5",
   "metadata": {},
   "outputs": [
    {
     "data": {
      "application/vnd.jupyter.widget-view+json": {
       "model_id": "174d4154045d4a7b923b6d86bed8e45d",
       "version_major": 2,
       "version_minor": 0
      },
      "text/plain": [
       "HTML(value='\\n        <style>\\n\\n        .left-label {\\n            width: 30%;\\n        }\\n\\n        .card-pa…"
      ]
     },
     "metadata": {},
     "output_type": "display_data"
    },
    {
     "data": {
      "application/javascript": [
       "\n",
       "        IPython.OutputArea.prototype._should_scroll = function(lines) {\n",
       "            return false;\n",
       "        }"
      ],
      "text/plain": [
       "<IPython.core.display.Javascript object>"
      ]
     },
     "metadata": {},
     "output_type": "display_data"
    },
    {
     "data": {
      "text/html": [
       "<div>\n",
       "<style scoped>\n",
       "    .dataframe tbody tr th:only-of-type {\n",
       "        vertical-align: middle;\n",
       "    }\n",
       "\n",
       "    .dataframe tbody tr th {\n",
       "        vertical-align: top;\n",
       "    }\n",
       "\n",
       "    .dataframe thead th {\n",
       "        text-align: right;\n",
       "    }\n",
       "</style>\n",
       "<table border=\"1\" class=\"dataframe\">\n",
       "  <thead>\n",
       "    <tr style=\"text-align: right;\">\n",
       "      <th></th>\n",
       "      <th>CURRENT INTEREST RATE</th>\n",
       "      <th>ESTIMATED LOAN TO VALUE (ELTV)</th>\n",
       "      <th>DEFAULT</th>\n",
       "      <th>CREDIT SCORE</th>\n",
       "      <th>FIRST TIME HOMEBUYER FLAG</th>\n",
       "      <th>OCCUPANCY STATUS</th>\n",
       "      <th>ORIGINAL INTEREST RATE</th>\n",
       "      <th>PROPERTY TYPE</th>\n",
       "      <th>LOAN PURPOSE</th>\n",
       "      <th>SELLER NAME</th>\n",
       "      <th>OrigYear</th>\n",
       "      <th>OrigDate</th>\n",
       "      <th>index_sa</th>\n",
       "      <th>UNRATE</th>\n",
       "      <th>inflation</th>\n",
       "      <th>% Change in UPB</th>\n",
       "    </tr>\n",
       "  </thead>\n",
       "  <tbody>\n",
       "    <tr>\n",
       "      <th>392871</th>\n",
       "      <td>8.000</td>\n",
       "      <td>0.5797</td>\n",
       "      <td>0</td>\n",
       "      <td>723</td>\n",
       "      <td>N</td>\n",
       "      <td>P</td>\n",
       "      <td>8.000</td>\n",
       "      <td>PU</td>\n",
       "      <td>P</td>\n",
       "      <td>CHASE MANHATTAN MORTGAGE CORPORATION</td>\n",
       "      <td>2000</td>\n",
       "      <td>2000Q1</td>\n",
       "      <td>221.190002</td>\n",
       "      <td>4.7</td>\n",
       "      <td>3.5</td>\n",
       "      <td>-6.32</td>\n",
       "    </tr>\n",
       "    <tr>\n",
       "      <th>405446</th>\n",
       "      <td>8.625</td>\n",
       "      <td>0.6433</td>\n",
       "      <td>0</td>\n",
       "      <td>645</td>\n",
       "      <td>N</td>\n",
       "      <td>P</td>\n",
       "      <td>8.625</td>\n",
       "      <td>SF</td>\n",
       "      <td>C</td>\n",
       "      <td>Other sellers</td>\n",
       "      <td>2000</td>\n",
       "      <td>2000Q1</td>\n",
       "      <td>183.389999</td>\n",
       "      <td>9.5</td>\n",
       "      <td>1.1</td>\n",
       "      <td>-14.46</td>\n",
       "    </tr>\n",
       "    <tr>\n",
       "      <th>405445</th>\n",
       "      <td>8.625</td>\n",
       "      <td>0.6371</td>\n",
       "      <td>0</td>\n",
       "      <td>645</td>\n",
       "      <td>N</td>\n",
       "      <td>P</td>\n",
       "      <td>8.625</td>\n",
       "      <td>SF</td>\n",
       "      <td>C</td>\n",
       "      <td>Other sellers</td>\n",
       "      <td>2000</td>\n",
       "      <td>2000Q1</td>\n",
       "      <td>185.169998</td>\n",
       "      <td>9.5</td>\n",
       "      <td>1.1</td>\n",
       "      <td>-14.46</td>\n",
       "    </tr>\n",
       "    <tr>\n",
       "      <th>405444</th>\n",
       "      <td>8.625</td>\n",
       "      <td>0.6365</td>\n",
       "      <td>1</td>\n",
       "      <td>645</td>\n",
       "      <td>N</td>\n",
       "      <td>P</td>\n",
       "      <td>8.625</td>\n",
       "      <td>SF</td>\n",
       "      <td>C</td>\n",
       "      <td>Other sellers</td>\n",
       "      <td>2000</td>\n",
       "      <td>2000Q1</td>\n",
       "      <td>185.350006</td>\n",
       "      <td>9.4</td>\n",
       "      <td>1.2</td>\n",
       "      <td>-14.46</td>\n",
       "    </tr>\n",
       "    <tr>\n",
       "      <th>405443</th>\n",
       "      <td>8.625</td>\n",
       "      <td>0.6349</td>\n",
       "      <td>0</td>\n",
       "      <td>645</td>\n",
       "      <td>N</td>\n",
       "      <td>P</td>\n",
       "      <td>8.625</td>\n",
       "      <td>SF</td>\n",
       "      <td>C</td>\n",
       "      <td>Other sellers</td>\n",
       "      <td>2000</td>\n",
       "      <td>2000Q1</td>\n",
       "      <td>186.529999</td>\n",
       "      <td>9.4</td>\n",
       "      <td>1.1</td>\n",
       "      <td>-14.14</td>\n",
       "    </tr>\n",
       "  </tbody>\n",
       "</table>\n",
       "</div>"
      ],
      "text/plain": [
       "        CURRENT INTEREST RATE  ESTIMATED LOAN TO VALUE (ELTV)  DEFAULT  \\\n",
       "392871                  8.000                          0.5797        0   \n",
       "405446                  8.625                          0.6433        0   \n",
       "405445                  8.625                          0.6371        0   \n",
       "405444                  8.625                          0.6365        1   \n",
       "405443                  8.625                          0.6349        0   \n",
       "\n",
       "        CREDIT SCORE FIRST TIME HOMEBUYER FLAG OCCUPANCY STATUS  \\\n",
       "392871           723                         N                P   \n",
       "405446           645                         N                P   \n",
       "405445           645                         N                P   \n",
       "405444           645                         N                P   \n",
       "405443           645                         N                P   \n",
       "\n",
       "        ORIGINAL INTEREST RATE PROPERTY TYPE LOAN PURPOSE  \\\n",
       "392871                   8.000            PU            P   \n",
       "405446                   8.625            SF            C   \n",
       "405445                   8.625            SF            C   \n",
       "405444                   8.625            SF            C   \n",
       "405443                   8.625            SF            C   \n",
       "\n",
       "                                 SELLER NAME  OrigYear OrigDate    index_sa  \\\n",
       "392871  CHASE MANHATTAN MORTGAGE CORPORATION      2000   2000Q1  221.190002   \n",
       "405446                         Other sellers      2000   2000Q1  183.389999   \n",
       "405445                         Other sellers      2000   2000Q1  185.169998   \n",
       "405444                         Other sellers      2000   2000Q1  185.350006   \n",
       "405443                         Other sellers      2000   2000Q1  186.529999   \n",
       "\n",
       "        UNRATE  inflation  % Change in UPB  \n",
       "392871     4.7        3.5            -6.32  \n",
       "405446     9.5        1.1           -14.46  \n",
       "405445     9.5        1.1           -14.46  \n",
       "405444     9.4        1.2           -14.46  \n",
       "405443     9.4        1.1           -14.14  "
      ]
     },
     "execution_count": 21,
     "metadata": {},
     "output_type": "execute_result"
    }
   ],
   "source": [
    "full_timeseries.head()"
   ]
  },
  {
   "cell_type": "code",
   "execution_count": 22,
   "id": "7de1b064",
   "metadata": {},
   "outputs": [
    {
     "data": {
      "application/vnd.jupyter.widget-view+json": {
       "model_id": "b48b8c11bfd94625b40a0a4b73e802a0",
       "version_major": 2,
       "version_minor": 0
      },
      "text/plain": [
       "HTML(value='\\n        <style>\\n\\n        .left-label {\\n            width: 30%;\\n        }\\n\\n        .card-pa…"
      ]
     },
     "metadata": {},
     "output_type": "display_data"
    },
    {
     "data": {
      "application/javascript": [
       "\n",
       "        IPython.OutputArea.prototype._should_scroll = function(lines) {\n",
       "            return false;\n",
       "        }"
      ],
      "text/plain": [
       "<IPython.core.display.Javascript object>"
      ]
     },
     "metadata": {},
     "output_type": "display_data"
    },
    {
     "data": {
      "text/html": [
       "<div>\n",
       "<style scoped>\n",
       "    .dataframe tbody tr th:only-of-type {\n",
       "        vertical-align: middle;\n",
       "    }\n",
       "\n",
       "    .dataframe tbody tr th {\n",
       "        vertical-align: top;\n",
       "    }\n",
       "\n",
       "    .dataframe thead th {\n",
       "        text-align: right;\n",
       "    }\n",
       "</style>\n",
       "<table border=\"1\" class=\"dataframe\">\n",
       "  <thead>\n",
       "    <tr style=\"text-align: right;\">\n",
       "      <th></th>\n",
       "      <th>CURRENT INTEREST RATE</th>\n",
       "      <th>ESTIMATED LOAN TO VALUE (ELTV)</th>\n",
       "      <th>DEFAULT</th>\n",
       "      <th>CREDIT SCORE</th>\n",
       "      <th>FIRST TIME HOMEBUYER FLAG</th>\n",
       "      <th>OCCUPANCY STATUS</th>\n",
       "      <th>ORIGINAL INTEREST RATE</th>\n",
       "      <th>PROPERTY TYPE</th>\n",
       "      <th>LOAN PURPOSE</th>\n",
       "      <th>SELLER NAME</th>\n",
       "      <th>OrigYear</th>\n",
       "      <th>OrigDate</th>\n",
       "      <th>index_sa</th>\n",
       "      <th>UNRATE</th>\n",
       "      <th>inflation</th>\n",
       "      <th>% Change in UPB</th>\n",
       "    </tr>\n",
       "  </thead>\n",
       "  <tbody>\n",
       "    <tr>\n",
       "      <th>452942</th>\n",
       "      <td>6.500</td>\n",
       "      <td>0.9864</td>\n",
       "      <td>0</td>\n",
       "      <td>806</td>\n",
       "      <td>N</td>\n",
       "      <td>P</td>\n",
       "      <td>6.500</td>\n",
       "      <td>CO</td>\n",
       "      <td>P</td>\n",
       "      <td>GUARANTEED RATE, INC.</td>\n",
       "      <td>2023</td>\n",
       "      <td>2023Q2</td>\n",
       "      <td>409.000000</td>\n",
       "      <td>3.5</td>\n",
       "      <td>3.2</td>\n",
       "      <td>0.00</td>\n",
       "    </tr>\n",
       "    <tr>\n",
       "      <th>452941</th>\n",
       "      <td>6.500</td>\n",
       "      <td>0.9947</td>\n",
       "      <td>0</td>\n",
       "      <td>806</td>\n",
       "      <td>N</td>\n",
       "      <td>P</td>\n",
       "      <td>6.500</td>\n",
       "      <td>CO</td>\n",
       "      <td>P</td>\n",
       "      <td>GUARANTEED RATE, INC.</td>\n",
       "      <td>2023</td>\n",
       "      <td>2023Q2</td>\n",
       "      <td>405.609985</td>\n",
       "      <td>3.6</td>\n",
       "      <td>3.0</td>\n",
       "      <td>0.00</td>\n",
       "    </tr>\n",
       "    <tr>\n",
       "      <th>452940</th>\n",
       "      <td>6.500</td>\n",
       "      <td>-1.0000</td>\n",
       "      <td>0</td>\n",
       "      <td>806</td>\n",
       "      <td>N</td>\n",
       "      <td>P</td>\n",
       "      <td>6.500</td>\n",
       "      <td>CO</td>\n",
       "      <td>P</td>\n",
       "      <td>GUARANTEED RATE, INC.</td>\n",
       "      <td>2023</td>\n",
       "      <td>2023Q2</td>\n",
       "      <td>403.440002</td>\n",
       "      <td>3.7</td>\n",
       "      <td>4.0</td>\n",
       "      <td>0.00</td>\n",
       "    </tr>\n",
       "    <tr>\n",
       "      <th>452948</th>\n",
       "      <td>6.875</td>\n",
       "      <td>0.9745</td>\n",
       "      <td>0</td>\n",
       "      <td>723</td>\n",
       "      <td>N</td>\n",
       "      <td>P</td>\n",
       "      <td>6.875</td>\n",
       "      <td>SF</td>\n",
       "      <td>P</td>\n",
       "      <td>Other sellers</td>\n",
       "      <td>2023</td>\n",
       "      <td>2023Q2</td>\n",
       "      <td>412.040009</td>\n",
       "      <td>3.8</td>\n",
       "      <td>3.7</td>\n",
       "      <td>-0.47</td>\n",
       "    </tr>\n",
       "    <tr>\n",
       "      <th>453089</th>\n",
       "      <td>6.475</td>\n",
       "      <td>-1.0000</td>\n",
       "      <td>0</td>\n",
       "      <td>687</td>\n",
       "      <td>N</td>\n",
       "      <td>P</td>\n",
       "      <td>6.475</td>\n",
       "      <td>PU</td>\n",
       "      <td>P</td>\n",
       "      <td>GUARANTEED RATE, INC.</td>\n",
       "      <td>2023</td>\n",
       "      <td>2023Q2</td>\n",
       "      <td>403.440002</td>\n",
       "      <td>3.7</td>\n",
       "      <td>4.0</td>\n",
       "      <td>0.00</td>\n",
       "    </tr>\n",
       "  </tbody>\n",
       "</table>\n",
       "</div>"
      ],
      "text/plain": [
       "        CURRENT INTEREST RATE  ESTIMATED LOAN TO VALUE (ELTV)  DEFAULT  \\\n",
       "452942                  6.500                          0.9864        0   \n",
       "452941                  6.500                          0.9947        0   \n",
       "452940                  6.500                         -1.0000        0   \n",
       "452948                  6.875                          0.9745        0   \n",
       "453089                  6.475                         -1.0000        0   \n",
       "\n",
       "        CREDIT SCORE FIRST TIME HOMEBUYER FLAG OCCUPANCY STATUS  \\\n",
       "452942           806                         N                P   \n",
       "452941           806                         N                P   \n",
       "452940           806                         N                P   \n",
       "452948           723                         N                P   \n",
       "453089           687                         N                P   \n",
       "\n",
       "        ORIGINAL INTEREST RATE PROPERTY TYPE LOAN PURPOSE  \\\n",
       "452942                   6.500            CO            P   \n",
       "452941                   6.500            CO            P   \n",
       "452940                   6.500            CO            P   \n",
       "452948                   6.875            SF            P   \n",
       "453089                   6.475            PU            P   \n",
       "\n",
       "                  SELLER NAME  OrigYear OrigDate    index_sa  UNRATE  \\\n",
       "452942  GUARANTEED RATE, INC.      2023   2023Q2  409.000000     3.5   \n",
       "452941  GUARANTEED RATE, INC.      2023   2023Q2  405.609985     3.6   \n",
       "452940  GUARANTEED RATE, INC.      2023   2023Q2  403.440002     3.7   \n",
       "452948          Other sellers      2023   2023Q2  412.040009     3.8   \n",
       "453089  GUARANTEED RATE, INC.      2023   2023Q2  403.440002     3.7   \n",
       "\n",
       "        inflation  % Change in UPB  \n",
       "452942        3.2             0.00  \n",
       "452941        3.0             0.00  \n",
       "452940        4.0             0.00  \n",
       "452948        3.7            -0.47  \n",
       "453089        4.0             0.00  "
      ]
     },
     "execution_count": 22,
     "metadata": {},
     "output_type": "execute_result"
    }
   ],
   "source": [
    "full_timeseries.tail()"
   ]
  },
  {
   "cell_type": "code",
   "execution_count": 23,
   "id": "433b5939",
   "metadata": {},
   "outputs": [
    {
     "data": {
      "application/vnd.jupyter.widget-view+json": {
       "model_id": "2475379c25924e7f8a1a1ecf94725d98",
       "version_major": 2,
       "version_minor": 0
      },
      "text/plain": [
       "HTML(value='\\n        <style>\\n\\n        .left-label {\\n            width: 30%;\\n        }\\n\\n        .card-pa…"
      ]
     },
     "metadata": {},
     "output_type": "display_data"
    },
    {
     "data": {
      "application/javascript": [
       "\n",
       "        IPython.OutputArea.prototype._should_scroll = function(lines) {\n",
       "            return false;\n",
       "        }"
      ],
      "text/plain": [
       "<IPython.core.display.Javascript object>"
      ]
     },
     "metadata": {},
     "output_type": "display_data"
    },
    {
     "name": "stdout",
     "output_type": "stream",
     "text": [
      "Total number of rows in the DataFrame: 466921\n"
     ]
    }
   ],
   "source": [
    "total_rows = len(full_timeseries) \n",
    "print(f\"Total number of rows in the DataFrame: {total_rows}\")"
   ]
  },
  {
   "cell_type": "code",
   "execution_count": 24,
   "id": "cc787174",
   "metadata": {},
   "outputs": [
    {
     "data": {
      "application/vnd.jupyter.widget-view+json": {
       "model_id": "d8c9df580f3b47bd8123011f2470c89e",
       "version_major": 2,
       "version_minor": 0
      },
      "text/plain": [
       "HTML(value='\\n        <style>\\n\\n        .left-label {\\n            width: 30%;\\n        }\\n\\n        .card-pa…"
      ]
     },
     "metadata": {},
     "output_type": "display_data"
    },
    {
     "data": {
      "application/javascript": [
       "\n",
       "        IPython.OutputArea.prototype._should_scroll = function(lines) {\n",
       "            return false;\n",
       "        }"
      ],
      "text/plain": [
       "<IPython.core.display.Javascript object>"
      ]
     },
     "metadata": {},
     "output_type": "display_data"
    },
    {
     "name": "stdout",
     "output_type": "stream",
     "text": [
      "CURRENT INTEREST RATE              0\n",
      "ESTIMATED LOAN TO VALUE (ELTV)     0\n",
      "DEFAULT                            0\n",
      "CREDIT SCORE                       0\n",
      "FIRST TIME HOMEBUYER FLAG          0\n",
      "OCCUPANCY STATUS                   0\n",
      "ORIGINAL INTEREST RATE             0\n",
      "PROPERTY TYPE                      0\n",
      "LOAN PURPOSE                       0\n",
      "SELLER NAME                        0\n",
      "OrigYear                           0\n",
      "OrigDate                           0\n",
      "index_sa                           0\n",
      "UNRATE                             0\n",
      "inflation                          0\n",
      "% Change in UPB                   99\n",
      "dtype: int64\n"
     ]
    }
   ],
   "source": [
    "nulls_per_column = full_timeseries.isnull().sum()\n",
    "print(nulls_per_column)"
   ]
  },
  {
   "cell_type": "code",
   "execution_count": 25,
   "id": "4bdb125b",
   "metadata": {},
   "outputs": [
    {
     "data": {
      "application/vnd.jupyter.widget-view+json": {
       "model_id": "3c085d51e43a45af8886275d61804ff5",
       "version_major": 2,
       "version_minor": 0
      },
      "text/plain": [
       "HTML(value='\\n        <style>\\n\\n        .left-label {\\n            width: 30%;\\n        }\\n\\n        .card-pa…"
      ]
     },
     "metadata": {},
     "output_type": "display_data"
    },
    {
     "data": {
      "application/javascript": [
       "\n",
       "        IPython.OutputArea.prototype._should_scroll = function(lines) {\n",
       "            return false;\n",
       "        }"
      ],
      "text/plain": [
       "<IPython.core.display.Javascript object>"
      ]
     },
     "metadata": {},
     "output_type": "display_data"
    },
    {
     "name": "stdout",
     "output_type": "stream",
     "text": [
      "CURRENT INTEREST RATE             0\n",
      "ESTIMATED LOAN TO VALUE (ELTV)    0\n",
      "DEFAULT                           0\n",
      "CREDIT SCORE                      0\n",
      "FIRST TIME HOMEBUYER FLAG         0\n",
      "OCCUPANCY STATUS                  0\n",
      "ORIGINAL INTEREST RATE            0\n",
      "PROPERTY TYPE                     0\n",
      "LOAN PURPOSE                      0\n",
      "SELLER NAME                       0\n",
      "OrigYear                          0\n",
      "OrigDate                          0\n",
      "index_sa                          0\n",
      "UNRATE                            0\n",
      "inflation                         0\n",
      "% Change in UPB                   0\n",
      "dtype: int64\n"
     ]
    }
   ],
   "source": [
    "full_timeseries = full_timeseries.dropna(subset=['% Change in UPB'])\n",
    "nulls_per_column = full_timeseries.isnull().sum()\n",
    "print(nulls_per_column)"
   ]
  },
  {
   "cell_type": "code",
   "execution_count": 26,
   "id": "6f8389be",
   "metadata": {},
   "outputs": [
    {
     "data": {
      "application/vnd.jupyter.widget-view+json": {
       "model_id": "2c3d253e4dcf4bfcaf83d1357b31541f",
       "version_major": 2,
       "version_minor": 0
      },
      "text/plain": [
       "HTML(value='\\n        <style>\\n\\n        .left-label {\\n            width: 30%;\\n        }\\n\\n        .card-pa…"
      ]
     },
     "metadata": {},
     "output_type": "display_data"
    },
    {
     "data": {
      "application/javascript": [
       "\n",
       "        IPython.OutputArea.prototype._should_scroll = function(lines) {\n",
       "            return false;\n",
       "        }"
      ],
      "text/plain": [
       "<IPython.core.display.Javascript object>"
      ]
     },
     "metadata": {},
     "output_type": "display_data"
    },
    {
     "name": "stdout",
     "output_type": "stream",
     "text": [
      "Total number of rows in the DataFrame: 466822\n"
     ]
    }
   ],
   "source": [
    "total_rows2 = len(full_timeseries) \n",
    "print(f\"Total number of rows in the DataFrame: {total_rows2}\")"
   ]
  },
  {
   "cell_type": "code",
   "execution_count": 27,
   "id": "a3660cc9",
   "metadata": {},
   "outputs": [
    {
     "data": {
      "application/vnd.jupyter.widget-view+json": {
       "model_id": "410973206af14c4494776582d8a09719",
       "version_major": 2,
       "version_minor": 0
      },
      "text/plain": [
       "HTML(value='\\n        <style>\\n\\n        .left-label {\\n            width: 30%;\\n        }\\n\\n        .card-pa…"
      ]
     },
     "metadata": {},
     "output_type": "display_data"
    },
    {
     "data": {
      "application/javascript": [
       "\n",
       "        IPython.OutputArea.prototype._should_scroll = function(lines) {\n",
       "            return false;\n",
       "        }"
      ],
      "text/plain": [
       "<IPython.core.display.Javascript object>"
      ]
     },
     "metadata": {},
     "output_type": "display_data"
    },
    {
     "name": "stdout",
     "output_type": "stream",
     "text": [
      "Difference between total_rows and total_rows2: 99\n"
     ]
    }
   ],
   "source": [
    "# Calculate the difference\n",
    "row_difference = total_rows - total_rows2\n",
    "print(f\"Difference between total_rows and total_rows2: {row_difference}\")"
   ]
  },
  {
   "cell_type": "code",
   "execution_count": 28,
   "id": "1e267e5a",
   "metadata": {},
   "outputs": [
    {
     "data": {
      "application/vnd.jupyter.widget-view+json": {
       "model_id": "81cc071da55e441293acab0a00e7ca19",
       "version_major": 2,
       "version_minor": 0
      },
      "text/plain": [
       "HTML(value='\\n        <style>\\n\\n        .left-label {\\n            width: 30%;\\n        }\\n\\n        .card-pa…"
      ]
     },
     "metadata": {},
     "output_type": "display_data"
    },
    {
     "data": {
      "application/javascript": [
       "\n",
       "        IPython.OutputArea.prototype._should_scroll = function(lines) {\n",
       "            return false;\n",
       "        }"
      ],
      "text/plain": [
       "<IPython.core.display.Javascript object>"
      ]
     },
     "metadata": {},
     "output_type": "display_data"
    },
    {
     "name": "stdout",
     "output_type": "stream",
     "text": [
      "Is 'undefined' present in the ELTV column? False\n"
     ]
    }
   ],
   "source": [
    "contains_undefined = full_timeseries['ESTIMATED LOAN TO VALUE (ELTV)'].isin(['undefined']).any()\n",
    "\n",
    "print(\"Is 'undefined' present in the ELTV column?\", contains_undefined)"
   ]
  },
  {
   "cell_type": "code",
   "execution_count": 29,
   "id": "a52f7a26",
   "metadata": {},
   "outputs": [
    {
     "data": {
      "application/vnd.jupyter.widget-view+json": {
       "model_id": "4704a02ad79f4177a0e12ed3211b47ce",
       "version_major": 2,
       "version_minor": 0
      },
      "text/plain": [
       "HTML(value='\\n        <style>\\n\\n        .left-label {\\n            width: 30%;\\n        }\\n\\n        .card-pa…"
      ]
     },
     "metadata": {},
     "output_type": "display_data"
    },
    {
     "data": {
      "application/javascript": [
       "\n",
       "        IPython.OutputArea.prototype._should_scroll = function(lines) {\n",
       "            return false;\n",
       "        }"
      ],
      "text/plain": [
       "<IPython.core.display.Javascript object>"
      ]
     },
     "metadata": {},
     "output_type": "display_data"
    },
    {
     "name": "stdout",
     "output_type": "stream",
     "text": [
      "CURRENT INTEREST RATE             float32\n",
      "ESTIMATED LOAN TO VALUE (ELTV)    float32\n",
      "DEFAULT                             int64\n",
      "CREDIT SCORE                        int64\n",
      "FIRST TIME HOMEBUYER FLAG          object\n",
      "OCCUPANCY STATUS                   object\n",
      "ORIGINAL INTEREST RATE            float32\n",
      "PROPERTY TYPE                      object\n",
      "LOAN PURPOSE                       object\n",
      "SELLER NAME                        object\n",
      "OrigYear                            int64\n",
      "OrigDate                           object\n",
      "index_sa                          float32\n",
      "UNRATE                            float32\n",
      "inflation                         float32\n",
      "% Change in UPB                   float32\n",
      "dtype: object\n"
     ]
    }
   ],
   "source": [
    "column_types = full_timeseries.dtypes\n",
    "print(column_types)"
   ]
  },
  {
   "cell_type": "code",
   "execution_count": 30,
   "id": "a47c77bf",
   "metadata": {},
   "outputs": [
    {
     "data": {
      "application/vnd.jupyter.widget-view+json": {
       "model_id": "a7316e419e6a47cc9f970179ca01b0b1",
       "version_major": 2,
       "version_minor": 0
      },
      "text/plain": [
       "HTML(value='\\n        <style>\\n\\n        .left-label {\\n            width: 30%;\\n        }\\n\\n        .card-pa…"
      ]
     },
     "metadata": {},
     "output_type": "display_data"
    },
    {
     "data": {
      "application/javascript": [
       "\n",
       "        IPython.OutputArea.prototype._should_scroll = function(lines) {\n",
       "            return false;\n",
       "        }"
      ],
      "text/plain": [
       "<IPython.core.display.Javascript object>"
      ]
     },
     "metadata": {},
     "output_type": "display_data"
    },
    {
     "name": "stdout",
     "output_type": "stream",
     "text": [
      "End of test index (inclusive): 466821\n",
      "Training data ends at index: 373456\n",
      "Testing data starts at index: 373457 and ends at index: 466821\n"
     ]
    }
   ],
   "source": [
    "# Reset the index \n",
    "full_timeseries.reset_index(drop=True, inplace=True)\n",
    "\n",
    "# Now that the DataFrame is sorted and the index has been reset, fetch indices for 2022 and 2023\n",
    "end_test_idx = full_timeseries[full_timeseries['OrigYear'] == 2023].index.max()\n",
    "\n",
    "print(f\"End of test index (inclusive): {end_test_idx}\")\n",
    "\n",
    "# Calculate the index that represents 80% of the data up to the end of 2023\n",
    "split_index = int(end_test_idx * 0.8)\n",
    "\n",
    "# Print the calculated split index\n",
    "print(f\"Training data ends at index: {split_index}\")\n",
    "print(f\"Testing data starts at index: {split_index + 1} and ends at index: {end_test_idx}\")\n",
    "\n",
    "# Optionally, split the DataFrame into training and testing sets based on the calculated index\n",
    "train_df = full_timeseries.loc[:split_index]\n",
    "test_df = full_timeseries.loc[split_index + 1:end_test_idx]\n",
    "\n",
    "full_timeseries['OrigYear'] = full_timeseries['OrigYear'].astype(str)"
   ]
  },
  {
   "cell_type": "markdown",
   "id": "e782fc61",
   "metadata": {},
   "source": [
    "# PiML "
   ]
  },
  {
   "cell_type": "code",
   "execution_count": 31,
   "id": "ec32a83c",
   "metadata": {},
   "outputs": [
    {
     "data": {
      "application/vnd.jupyter.widget-view+json": {
       "model_id": "817b78edb81a49e88e2eeb9bdd87eb1c",
       "version_major": 2,
       "version_minor": 0
      },
      "text/plain": [
       "HTML(value='\\n        <style>\\n\\n        .left-label {\\n            width: 30%;\\n        }\\n\\n        .card-pa…"
      ]
     },
     "metadata": {},
     "output_type": "display_data"
    },
    {
     "data": {
      "application/javascript": [
       "\n",
       "        IPython.OutputArea.prototype._should_scroll = function(lines) {\n",
       "            return false;\n",
       "        }"
      ],
      "text/plain": [
       "<IPython.core.display.Javascript object>"
      ]
     },
     "metadata": {},
     "output_type": "display_data"
    }
   ],
   "source": [
    "from piml import Experiment\n",
    "exp = Experiment()\n",
    "exp.data_loader(data = full_timeseries, silent=True)"
   ]
  },
  {
   "cell_type": "code",
   "execution_count": 32,
   "id": "9ac00e92",
   "metadata": {
    "scrolled": false
   },
   "outputs": [
    {
     "data": {
      "application/vnd.jupyter.widget-view+json": {
       "model_id": "621ae5f95b034e578f7a7707f2649929",
       "version_major": 2,
       "version_minor": 0
      },
      "text/plain": [
       "HTML(value='\\n        <style>\\n\\n        .left-label {\\n            width: 30%;\\n        }\\n\\n        .card-pa…"
      ]
     },
     "metadata": {},
     "output_type": "display_data"
    },
    {
     "data": {
      "application/javascript": [
       "\n",
       "        IPython.OutputArea.prototype._should_scroll = function(lines) {\n",
       "            return false;\n",
       "        }"
      ],
      "text/plain": [
       "<IPython.core.display.Javascript object>"
      ]
     },
     "metadata": {},
     "output_type": "display_data"
    },
    {
     "data": {
      "text/html": [
       "<style type=\"text/css\">\n",
       "</style>\n",
       "<table id=\"T_57985\" style='display:inline'>\n",
       "  <caption>Numerical Attributes</caption>\n",
       "  <thead>\n",
       "    <tr>\n",
       "      <th class=\"blank level0\" >&nbsp;</th>\n",
       "      <th id=\"T_57985_level0_col0\" class=\"col_heading level0 col0\" >name</th>\n",
       "      <th id=\"T_57985_level0_col1\" class=\"col_heading level0 col1\" >n_missing</th>\n",
       "      <th id=\"T_57985_level0_col2\" class=\"col_heading level0 col2\" >mean</th>\n",
       "      <th id=\"T_57985_level0_col3\" class=\"col_heading level0 col3\" >std</th>\n",
       "      <th id=\"T_57985_level0_col4\" class=\"col_heading level0 col4\" >min</th>\n",
       "      <th id=\"T_57985_level0_col5\" class=\"col_heading level0 col5\" >q1</th>\n",
       "      <th id=\"T_57985_level0_col6\" class=\"col_heading level0 col6\" >median</th>\n",
       "      <th id=\"T_57985_level0_col7\" class=\"col_heading level0 col7\" >q3</th>\n",
       "      <th id=\"T_57985_level0_col8\" class=\"col_heading level0 col8\" >max</th>\n",
       "    </tr>\n",
       "  </thead>\n",
       "  <tbody>\n",
       "    <tr>\n",
       "      <th id=\"T_57985_level0_row0\" class=\"row_heading level0 row0\" >0</th>\n",
       "      <td id=\"T_57985_row0_col0\" class=\"data row0 col0\" >CURRENT INTEREST RATE</td>\n",
       "      <td id=\"T_57985_row0_col1\" class=\"data row0 col1\" >0</td>\n",
       "      <td id=\"T_57985_row0_col2\" class=\"data row0 col2\" >5.2096</td>\n",
       "      <td id=\"T_57985_row0_col3\" class=\"data row0 col3\" >1.2885</td>\n",
       "      <td id=\"T_57985_row0_col4\" class=\"data row0 col4\" >2.0000</td>\n",
       "      <td id=\"T_57985_row0_col5\" class=\"data row0 col5\" >4.2500</td>\n",
       "      <td id=\"T_57985_row0_col6\" class=\"data row0 col6\" >5.0000</td>\n",
       "      <td id=\"T_57985_row0_col7\" class=\"data row0 col7\" >6.1250</td>\n",
       "      <td id=\"T_57985_row0_col8\" class=\"data row0 col8\" >10.6250</td>\n",
       "    </tr>\n",
       "    <tr>\n",
       "      <th id=\"T_57985_level0_row1\" class=\"row_heading level0 row1\" >1</th>\n",
       "      <td id=\"T_57985_row1_col0\" class=\"data row1 col0\" >ESTIMATED LOAN TO VALUE (ELTV)</td>\n",
       "      <td id=\"T_57985_row1_col1\" class=\"data row1 col1\" >0</td>\n",
       "      <td id=\"T_57985_row1_col2\" class=\"data row1 col2\" >0.7971</td>\n",
       "      <td id=\"T_57985_row1_col3\" class=\"data row1 col3\" >0.3025</td>\n",
       "      <td id=\"T_57985_row1_col4\" class=\"data row1 col4\" >-1.0000</td>\n",
       "      <td id=\"T_57985_row1_col5\" class=\"data row1 col5\" >0.7170</td>\n",
       "      <td id=\"T_57985_row1_col6\" class=\"data row1 col6\" >0.8550</td>\n",
       "      <td id=\"T_57985_row1_col7\" class=\"data row1 col7\" >0.9626</td>\n",
       "      <td id=\"T_57985_row1_col8\" class=\"data row1 col8\" >1.5510</td>\n",
       "    </tr>\n",
       "    <tr>\n",
       "      <th id=\"T_57985_level0_row2\" class=\"row_heading level0 row2\" >2</th>\n",
       "      <td id=\"T_57985_row2_col0\" class=\"data row2 col0\" >CREDIT SCORE</td>\n",
       "      <td id=\"T_57985_row2_col1\" class=\"data row2 col1\" >0</td>\n",
       "      <td id=\"T_57985_row2_col2\" class=\"data row2 col2\" >735.3731</td>\n",
       "      <td id=\"T_57985_row2_col3\" class=\"data row2 col3\" >435.0033</td>\n",
       "      <td id=\"T_57985_row2_col4\" class=\"data row2 col4\" >300.0000</td>\n",
       "      <td id=\"T_57985_row2_col5\" class=\"data row2 col5\" >673.0000</td>\n",
       "      <td id=\"T_57985_row2_col6\" class=\"data row2 col6\" >718.0000</td>\n",
       "      <td id=\"T_57985_row2_col7\" class=\"data row2 col7\" >765.0000</td>\n",
       "      <td id=\"T_57985_row2_col8\" class=\"data row2 col8\" >9999.0000</td>\n",
       "    </tr>\n",
       "    <tr>\n",
       "      <th id=\"T_57985_level0_row3\" class=\"row_heading level0 row3\" >3</th>\n",
       "      <td id=\"T_57985_row3_col0\" class=\"data row3 col0\" >ORIGINAL INTEREST RATE</td>\n",
       "      <td id=\"T_57985_row3_col1\" class=\"data row3 col1\" >0</td>\n",
       "      <td id=\"T_57985_row3_col2\" class=\"data row3 col2\" >5.3307</td>\n",
       "      <td id=\"T_57985_row3_col3\" class=\"data row3 col3\" >1.2459</td>\n",
       "      <td id=\"T_57985_row3_col4\" class=\"data row3 col4\" >2.1250</td>\n",
       "      <td id=\"T_57985_row3_col5\" class=\"data row3 col5\" >4.3750</td>\n",
       "      <td id=\"T_57985_row3_col6\" class=\"data row3 col6\" >5.2500</td>\n",
       "      <td id=\"T_57985_row3_col7\" class=\"data row3 col7\" >6.2500</td>\n",
       "      <td id=\"T_57985_row3_col8\" class=\"data row3 col8\" >10.6250</td>\n",
       "    </tr>\n",
       "    <tr>\n",
       "      <th id=\"T_57985_level0_row4\" class=\"row_heading level0 row4\" >4</th>\n",
       "      <td id=\"T_57985_row4_col0\" class=\"data row4 col0\" >index_sa</td>\n",
       "      <td id=\"T_57985_row4_col1\" class=\"data row4 col1\" >0</td>\n",
       "      <td id=\"T_57985_row4_col2\" class=\"data row4 col2\" >242.4418</td>\n",
       "      <td id=\"T_57985_row4_col3\" class=\"data row4 col3\" >66.8261</td>\n",
       "      <td id=\"T_57985_row4_col4\" class=\"data row4 col4\" >136.8600</td>\n",
       "      <td id=\"T_57985_row4_col5\" class=\"data row4 col5\" >192.3500</td>\n",
       "      <td id=\"T_57985_row4_col6\" class=\"data row4 col6\" >220.8200</td>\n",
       "      <td id=\"T_57985_row4_col7\" class=\"data row4 col7\" >269.2800</td>\n",
       "      <td id=\"T_57985_row4_col8\" class=\"data row4 col8\" >414.9800</td>\n",
       "    </tr>\n",
       "    <tr>\n",
       "      <th id=\"T_57985_level0_row5\" class=\"row_heading level0 row5\" >5</th>\n",
       "      <td id=\"T_57985_row5_col0\" class=\"data row5 col0\" >UNRATE</td>\n",
       "      <td id=\"T_57985_row5_col1\" class=\"data row5 col1\" >0</td>\n",
       "      <td id=\"T_57985_row5_col2\" class=\"data row5 col2\" >5.8731</td>\n",
       "      <td id=\"T_57985_row5_col3\" class=\"data row5 col3\" >2.1375</td>\n",
       "      <td id=\"T_57985_row5_col4\" class=\"data row5 col4\" >3.4000</td>\n",
       "      <td id=\"T_57985_row5_col5\" class=\"data row5 col5\" >4.2000</td>\n",
       "      <td id=\"T_57985_row5_col6\" class=\"data row5 col6\" >5.1000</td>\n",
       "      <td id=\"T_57985_row5_col7\" class=\"data row5 col7\" >7.3000</td>\n",
       "      <td id=\"T_57985_row5_col8\" class=\"data row5 col8\" >14.8000</td>\n",
       "    </tr>\n",
       "    <tr>\n",
       "      <th id=\"T_57985_level0_row6\" class=\"row_heading level0 row6\" >6</th>\n",
       "      <td id=\"T_57985_row6_col0\" class=\"data row6 col0\" >inflation</td>\n",
       "      <td id=\"T_57985_row6_col1\" class=\"data row6 col1\" >0</td>\n",
       "      <td id=\"T_57985_row6_col2\" class=\"data row6 col2\" >2.5367</td>\n",
       "      <td id=\"T_57985_row6_col3\" class=\"data row6 col3\" >1.9783</td>\n",
       "      <td id=\"T_57985_row6_col4\" class=\"data row6 col4\" >-2.1000</td>\n",
       "      <td id=\"T_57985_row6_col5\" class=\"data row6 col5\" >1.4000</td>\n",
       "      <td id=\"T_57985_row6_col6\" class=\"data row6 col6\" >2.1000</td>\n",
       "      <td id=\"T_57985_row6_col7\" class=\"data row6 col7\" >3.3000</td>\n",
       "      <td id=\"T_57985_row6_col8\" class=\"data row6 col8\" >9.1000</td>\n",
       "    </tr>\n",
       "    <tr>\n",
       "      <th id=\"T_57985_level0_row7\" class=\"row_heading level0 row7\" >7</th>\n",
       "      <td id=\"T_57985_row7_col0\" class=\"data row7 col0\" >% Change in UPB</td>\n",
       "      <td id=\"T_57985_row7_col1\" class=\"data row7 col1\" >0</td>\n",
       "      <td id=\"T_57985_row7_col2\" class=\"data row7 col2\" >-7.7493</td>\n",
       "      <td id=\"T_57985_row7_col3\" class=\"data row7 col3\" >13.1241</td>\n",
       "      <td id=\"T_57985_row7_col4\" class=\"data row7 col4\" >-100.0000</td>\n",
       "      <td id=\"T_57985_row7_col5\" class=\"data row7 col5\" >-9.5200</td>\n",
       "      <td id=\"T_57985_row7_col6\" class=\"data row7 col6\" >-4.4000</td>\n",
       "      <td id=\"T_57985_row7_col7\" class=\"data row7 col7\" >-1.6000</td>\n",
       "      <td id=\"T_57985_row7_col8\" class=\"data row7 col8\" >49.2700</td>\n",
       "    </tr>\n",
       "  </tbody>\n",
       "</table>\n",
       "<style type=\"text/css\">\n",
       "</style>\n",
       "<table id=\"T_bfd3f\" style='display:inline'>\n",
       "  <caption>Categorical Attributes</caption>\n",
       "  <thead>\n",
       "    <tr>\n",
       "      <th class=\"blank level0\" >&nbsp;</th>\n",
       "      <th id=\"T_bfd3f_level0_col0\" class=\"col_heading level0 col0\" >name</th>\n",
       "      <th id=\"T_bfd3f_level0_col1\" class=\"col_heading level0 col1\" >n_missing</th>\n",
       "      <th id=\"T_bfd3f_level0_col2\" class=\"col_heading level0 col2\" >n_unique</th>\n",
       "      <th id=\"T_bfd3f_level0_col3\" class=\"col_heading level0 col3\" >top1</th>\n",
       "      <th id=\"T_bfd3f_level0_col4\" class=\"col_heading level0 col4\" >top2</th>\n",
       "      <th id=\"T_bfd3f_level0_col5\" class=\"col_heading level0 col5\" >top3</th>\n",
       "      <th id=\"T_bfd3f_level0_col6\" class=\"col_heading level0 col6\" >n_others</th>\n",
       "    </tr>\n",
       "  </thead>\n",
       "  <tbody>\n",
       "    <tr>\n",
       "      <th id=\"T_bfd3f_level0_row0\" class=\"row_heading level0 row0\" >0</th>\n",
       "      <td id=\"T_bfd3f_row0_col0\" class=\"data row0 col0\" >DEFAULT</td>\n",
       "      <td id=\"T_bfd3f_row0_col1\" class=\"data row0 col1\" >0</td>\n",
       "      <td id=\"T_bfd3f_row0_col2\" class=\"data row0 col2\" >2</td>\n",
       "      <td id=\"T_bfd3f_row0_col3\" class=\"data row0 col3\" >0.0 : 425034</td>\n",
       "      <td id=\"T_bfd3f_row0_col4\" class=\"data row0 col4\" >1.0 : 41788</td>\n",
       "      <td id=\"T_bfd3f_row0_col5\" class=\"data row0 col5\" >0</td>\n",
       "      <td id=\"T_bfd3f_row0_col6\" class=\"data row0 col6\" >0</td>\n",
       "    </tr>\n",
       "    <tr>\n",
       "      <th id=\"T_bfd3f_level0_row1\" class=\"row_heading level0 row1\" >1</th>\n",
       "      <td id=\"T_bfd3f_row1_col0\" class=\"data row1 col0\" >FIRST TIME HOMEBUYER FLAG</td>\n",
       "      <td id=\"T_bfd3f_row1_col1\" class=\"data row1 col1\" >0</td>\n",
       "      <td id=\"T_bfd3f_row1_col2\" class=\"data row1 col2\" >2</td>\n",
       "      <td id=\"T_bfd3f_row1_col3\" class=\"data row1 col3\" >N : 406332</td>\n",
       "      <td id=\"T_bfd3f_row1_col4\" class=\"data row1 col4\" >Y : 60490</td>\n",
       "      <td id=\"T_bfd3f_row1_col5\" class=\"data row1 col5\" >0</td>\n",
       "      <td id=\"T_bfd3f_row1_col6\" class=\"data row1 col6\" >0</td>\n",
       "    </tr>\n",
       "    <tr>\n",
       "      <th id=\"T_bfd3f_level0_row2\" class=\"row_heading level0 row2\" >2</th>\n",
       "      <td id=\"T_bfd3f_row2_col0\" class=\"data row2 col0\" >OCCUPANCY STATUS</td>\n",
       "      <td id=\"T_bfd3f_row2_col1\" class=\"data row2 col1\" >0</td>\n",
       "      <td id=\"T_bfd3f_row2_col2\" class=\"data row2 col2\" >3</td>\n",
       "      <td id=\"T_bfd3f_row2_col3\" class=\"data row2 col3\" >P : 422890</td>\n",
       "      <td id=\"T_bfd3f_row2_col4\" class=\"data row2 col4\" >I : 28711</td>\n",
       "      <td id=\"T_bfd3f_row2_col5\" class=\"data row2 col5\" >S : 15221</td>\n",
       "      <td id=\"T_bfd3f_row2_col6\" class=\"data row2 col6\" >0</td>\n",
       "    </tr>\n",
       "    <tr>\n",
       "      <th id=\"T_bfd3f_level0_row3\" class=\"row_heading level0 row3\" >3</th>\n",
       "      <td id=\"T_bfd3f_row3_col0\" class=\"data row3 col0\" >PROPERTY TYPE</td>\n",
       "      <td id=\"T_bfd3f_row3_col1\" class=\"data row3 col1\" >0</td>\n",
       "      <td id=\"T_bfd3f_row3_col2\" class=\"data row3 col2\" >6</td>\n",
       "      <td id=\"T_bfd3f_row3_col3\" class=\"data row3 col3\" >SF : 372015</td>\n",
       "      <td id=\"T_bfd3f_row3_col4\" class=\"data row3 col4\" >PU : 56700</td>\n",
       "      <td id=\"T_bfd3f_row3_col5\" class=\"data row3 col5\" >CO : 29711</td>\n",
       "      <td id=\"T_bfd3f_row3_col6\" class=\"data row3 col6\" >8396</td>\n",
       "    </tr>\n",
       "    <tr>\n",
       "      <th id=\"T_bfd3f_level0_row4\" class=\"row_heading level0 row4\" >4</th>\n",
       "      <td id=\"T_bfd3f_row4_col0\" class=\"data row4 col0\" >LOAN PURPOSE</td>\n",
       "      <td id=\"T_bfd3f_row4_col1\" class=\"data row4 col1\" >0</td>\n",
       "      <td id=\"T_bfd3f_row4_col2\" class=\"data row4 col2\" >3</td>\n",
       "      <td id=\"T_bfd3f_row4_col3\" class=\"data row4 col3\" >P : 185155</td>\n",
       "      <td id=\"T_bfd3f_row4_col4\" class=\"data row4 col4\" >N : 159877</td>\n",
       "      <td id=\"T_bfd3f_row4_col5\" class=\"data row4 col5\" >C : 121790</td>\n",
       "      <td id=\"T_bfd3f_row4_col6\" class=\"data row4 col6\" >0</td>\n",
       "    </tr>\n",
       "    <tr>\n",
       "      <th id=\"T_bfd3f_level0_row5\" class=\"row_heading level0 row5\" >5</th>\n",
       "      <td id=\"T_bfd3f_row5_col0\" class=\"data row5 col0\" >SELLER NAME</td>\n",
       "      <td id=\"T_bfd3f_row5_col1\" class=\"data row5 col1\" >0</td>\n",
       "      <td id=\"T_bfd3f_row5_col2\" class=\"data row5 col2\" >81</td>\n",
       "      <td id=\"T_bfd3f_row5_col3\" class=\"data row5 col3\" >Other sell : 238879</td>\n",
       "      <td id=\"T_bfd3f_row5_col4\" class=\"data row5 col4\" >WELLS FARG : 30795</td>\n",
       "      <td id=\"T_bfd3f_row5_col5\" class=\"data row5 col5\" >COUNTRYWID : 18296</td>\n",
       "      <td id=\"T_bfd3f_row5_col6\" class=\"data row5 col6\" >178852</td>\n",
       "    </tr>\n",
       "    <tr>\n",
       "      <th id=\"T_bfd3f_level0_row6\" class=\"row_heading level0 row6\" >6</th>\n",
       "      <td id=\"T_bfd3f_row6_col0\" class=\"data row6 col0\" >OrigYear</td>\n",
       "      <td id=\"T_bfd3f_row6_col1\" class=\"data row6 col1\" >0</td>\n",
       "      <td id=\"T_bfd3f_row6_col2\" class=\"data row6 col2\" >24</td>\n",
       "      <td id=\"T_bfd3f_row6_col3\" class=\"data row6 col3\" >2003.0 : 32063</td>\n",
       "      <td id=\"T_bfd3f_row6_col4\" class=\"data row6 col4\" >2004.0 : 29120</td>\n",
       "      <td id=\"T_bfd3f_row6_col5\" class=\"data row6 col5\" >2005.0 : 28174</td>\n",
       "      <td id=\"T_bfd3f_row6_col6\" class=\"data row6 col6\" >377465</td>\n",
       "    </tr>\n",
       "    <tr>\n",
       "      <th id=\"T_bfd3f_level0_row7\" class=\"row_heading level0 row7\" >7</th>\n",
       "      <td id=\"T_bfd3f_row7_col0\" class=\"data row7 col0\" >OrigDate</td>\n",
       "      <td id=\"T_bfd3f_row7_col1\" class=\"data row7 col1\" >0</td>\n",
       "      <td id=\"T_bfd3f_row7_col2\" class=\"data row7 col2\" >94</td>\n",
       "      <td id=\"T_bfd3f_row7_col3\" class=\"data row7 col3\" >2003Q3 : 9055</td>\n",
       "      <td id=\"T_bfd3f_row7_col4\" class=\"data row7 col4\" >2005Q1 : 8253</td>\n",
       "      <td id=\"T_bfd3f_row7_col5\" class=\"data row7 col5\" >2003Q2 : 8225</td>\n",
       "      <td id=\"T_bfd3f_row7_col6\" class=\"data row7 col6\" >441289</td>\n",
       "    </tr>\n",
       "  </tbody>\n",
       "</table>\n"
      ]
     },
     "metadata": {},
     "output_type": "display_data"
    },
    {
     "name": "stdout",
     "output_type": "stream",
     "text": [
      "Data Shape:(466822, 16)\n"
     ]
    }
   ],
   "source": [
    "# Update \"OrigYear\" as Categorical Variables\n",
    "\n",
    "exp.data_summary(feature_exclude=[], feature_type={\"OrigYear\": \"categorical\"})"
   ]
  },
  {
   "cell_type": "code",
   "execution_count": 33,
   "id": "1ea7052d",
   "metadata": {},
   "outputs": [
    {
     "data": {
      "application/vnd.jupyter.widget-view+json": {
       "model_id": "2bfe421e71ab4461996567ac0e5bb533",
       "version_major": 2,
       "version_minor": 0
      },
      "text/plain": [
       "HTML(value='\\n        <style>\\n\\n        .left-label {\\n            width: 30%;\\n        }\\n\\n        .card-pa…"
      ]
     },
     "metadata": {},
     "output_type": "display_data"
    },
    {
     "data": {
      "application/javascript": [
       "\n",
       "        IPython.OutputArea.prototype._should_scroll = function(lines) {\n",
       "            return false;\n",
       "        }"
      ],
      "text/plain": [
       "<IPython.core.display.Javascript object>"
      ]
     },
     "metadata": {},
     "output_type": "display_data"
    },
    {
     "data": {
      "text/html": [
       "<div>\n",
       "<style scoped>\n",
       "    .dataframe tbody tr th:only-of-type {\n",
       "        vertical-align: middle;\n",
       "    }\n",
       "\n",
       "    .dataframe tbody tr th {\n",
       "        vertical-align: top;\n",
       "    }\n",
       "\n",
       "    .dataframe thead th {\n",
       "        text-align: right;\n",
       "    }\n",
       "</style>\n",
       "<table border=\"1\" class=\"dataframe\">\n",
       "  <thead>\n",
       "    <tr style=\"text-align: right;\">\n",
       "      <th></th>\n",
       "      <th>Config</th>\n",
       "      <th>Value</th>\n",
       "    </tr>\n",
       "  </thead>\n",
       "  <tbody>\n",
       "    <tr>\n",
       "      <th>0</th>\n",
       "      <td>Excluded columns</td>\n",
       "      <td>[]</td>\n",
       "    </tr>\n",
       "    <tr>\n",
       "      <th>1</th>\n",
       "      <td>Target variable</td>\n",
       "      <td>DEFAULT</td>\n",
       "    </tr>\n",
       "    <tr>\n",
       "      <th>2</th>\n",
       "      <td>Sample weight</td>\n",
       "      <td>None</td>\n",
       "    </tr>\n",
       "    <tr>\n",
       "      <th>3</th>\n",
       "      <td>Task type</td>\n",
       "      <td>classification</td>\n",
       "    </tr>\n",
       "    <tr>\n",
       "      <th>4</th>\n",
       "      <td>Split method</td>\n",
       "      <td>manual</td>\n",
       "    </tr>\n",
       "    <tr>\n",
       "      <th>5</th>\n",
       "      <td>Test ratio</td>\n",
       "      <td>0.2</td>\n",
       "    </tr>\n",
       "    <tr>\n",
       "      <th>6</th>\n",
       "      <td>Random state</td>\n",
       "      <td>12345</td>\n",
       "    </tr>\n",
       "  </tbody>\n",
       "</table>\n",
       "</div>"
      ],
      "text/plain": [
       "             Config           Value\n",
       "0  Excluded columns              []\n",
       "1   Target variable         DEFAULT\n",
       "2     Sample weight            None\n",
       "3         Task type  classification\n",
       "4      Split method          manual\n",
       "5        Test ratio             0.2\n",
       "6      Random state           12345"
      ]
     },
     "metadata": {},
     "output_type": "display_data"
    }
   ],
   "source": [
    "np.random.seed(12345) \n",
    "custom_train_idx = np.arange(0, 373456)\n",
    "custom_test_idx = np.arange(373457, 466821)\n",
    "exp.data_prepare(target='DEFAULT', task_type='classification', sample_weight=None,\n",
    "                train_idx=custom_train_idx, test_idx=custom_test_idx, random_state = 12345)"
   ]
  },
  {
   "cell_type": "code",
   "execution_count": 34,
   "id": "0e23550a",
   "metadata": {
    "scrolled": true
   },
   "outputs": [
    {
     "data": {
      "application/vnd.jupyter.widget-view+json": {
       "model_id": "874aaade3c584ecfb4a1c43d6679b877",
       "version_major": 2,
       "version_minor": 0
      },
      "text/plain": [
       "HTML(value='\\n        <style>\\n\\n        .left-label {\\n            width: 30%;\\n        }\\n\\n        .card-pa…"
      ]
     },
     "metadata": {},
     "output_type": "display_data"
    },
    {
     "data": {
      "application/javascript": [
       "\n",
       "        IPython.OutputArea.prototype._should_scroll = function(lines) {\n",
       "            return false;\n",
       "        }"
      ],
      "text/plain": [
       "<IPython.core.display.Javascript object>"
      ]
     },
     "metadata": {},
     "output_type": "display_data"
    },
    {
     "data": {
      "text/html": [
       "<link rel=\"stylesheet\" href=\"https://stackpath.bootstrapcdn.com/font-awesome/4.7.0/css/font-awesome.min.css\"> "
      ],
      "text/plain": [
       "<IPython.core.display.HTML object>"
      ]
     },
     "metadata": {},
     "output_type": "display_data"
    },
    {
     "data": {
      "application/vnd.jupyter.widget-view+json": {
       "model_id": "021630a3699949c8a59ba8b23fc3354f",
       "version_major": 2,
       "version_minor": 0
      },
      "text/plain": [
       "VBox(children=(Box(children=(Box(children=(HTML(value=\"<h4 style='margin: 10px 0px;'>Choose Model</h4>\"), Box(…"
      ]
     },
     "metadata": {},
     "output_type": "display_data"
    }
   ],
   "source": [
    "np.random.seed(12345)\n",
    "exp.model_train()"
   ]
  },
  {
   "cell_type": "code",
   "execution_count": null,
   "id": "2f587ef4",
   "metadata": {},
   "outputs": [
    {
     "data": {
      "application/vnd.jupyter.widget-view+json": {
       "model_id": "12c189217e4045288f1fa419ac54f6cd",
       "version_major": 2,
       "version_minor": 0
      },
      "text/plain": [
       "HTML(value='\\n        <style>\\n\\n        .left-label {\\n            width: 30%;\\n        }\\n\\n        .card-pa…"
      ]
     },
     "metadata": {},
     "output_type": "display_data"
    },
    {
     "data": {
      "application/javascript": [
       "\n",
       "        IPython.OutputArea.prototype._should_scroll = function(lines) {\n",
       "            return false;\n",
       "        }"
      ],
      "text/plain": [
       "<IPython.core.display.Javascript object>"
      ]
     },
     "metadata": {},
     "output_type": "display_data"
    }
   ],
   "source": [
    "np.random.seed(12345)\n",
    "\n",
    "parameters = {'n_estimators': [100, 500, 1000],\n",
    "              'eta': [0.01, 0.1, 0.5],\n",
    "              'reg_lambda': [0.0, 0.5, 1.0],\n",
    "              'reg_alpha': [0.01, 0.5, .99]}\n",
    "result = exp.model_tune(\"XGB2\", method=\"grid\", parameters=parameters, metric=['MSE', 'MAE'], test_ratio=0.2, random_state = 12345)\n",
    "result.data"
   ]
  }
 ],
 "metadata": {
  "kernelspec": {
   "display_name": "Python 3 (ipykernel)",
   "language": "python",
   "name": "python3"
  },
  "language_info": {
   "codemirror_mode": {
    "name": "ipython",
    "version": 3
   },
   "file_extension": ".py",
   "mimetype": "text/x-python",
   "name": "python",
   "nbconvert_exporter": "python",
   "pygments_lexer": "ipython3",
   "version": "3.9.7"
  }
 },
 "nbformat": 4,
 "nbformat_minor": 5
}
