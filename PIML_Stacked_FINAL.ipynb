{
 "cells": [
  {
   "cell_type": "markdown",
   "id": "da701284",
   "metadata": {},
   "source": [
    "# Data Preprocessing for Modeling "
   ]
  },
  {
   "cell_type": "code",
   "execution_count": 1,
   "id": "a4f83534",
   "metadata": {},
   "outputs": [],
   "source": [
    "# Standardizing all numeric variables \n",
    "from sklearn.preprocessing import StandardScaler\n",
    "from pyspark.sql.types import StringType \n",
    "from pyspark.sql.functions import col \n",
    "import numpy as np\n",
    "import pandas as pd \n",
    "\n",
    "from numpy import random \n",
    "random.seed(seed=12345)"
   ]
  },
  {
   "cell_type": "code",
   "execution_count": 2,
   "id": "460f7662",
   "metadata": {},
   "outputs": [
    {
     "name": "stderr",
     "output_type": "stream",
     "text": [
      "/tmp/ipykernel_2966836/4195686458.py:12: DtypeWarning: Columns (7) have mixed types. Specify dtype option on import or set low_memory=False.\n",
      "  dfs = [pd.read_csv(file) for file in files]\n",
      "/tmp/ipykernel_2966836/4195686458.py:12: DtypeWarning: Columns (7) have mixed types. Specify dtype option on import or set low_memory=False.\n",
      "  dfs = [pd.read_csv(file) for file in files]\n",
      "/tmp/ipykernel_2966836/4195686458.py:12: DtypeWarning: Columns (7) have mixed types. Specify dtype option on import or set low_memory=False.\n",
      "  dfs = [pd.read_csv(file) for file in files]\n",
      "/tmp/ipykernel_2966836/4195686458.py:12: DtypeWarning: Columns (7) have mixed types. Specify dtype option on import or set low_memory=False.\n",
      "  dfs = [pd.read_csv(file) for file in files]\n",
      "/tmp/ipykernel_2966836/4195686458.py:12: DtypeWarning: Columns (7) have mixed types. Specify dtype option on import or set low_memory=False.\n",
      "  dfs = [pd.read_csv(file) for file in files]\n",
      "/tmp/ipykernel_2966836/4195686458.py:12: DtypeWarning: Columns (7) have mixed types. Specify dtype option on import or set low_memory=False.\n",
      "  dfs = [pd.read_csv(file) for file in files]\n",
      "/tmp/ipykernel_2966836/4195686458.py:12: DtypeWarning: Columns (7) have mixed types. Specify dtype option on import or set low_memory=False.\n",
      "  dfs = [pd.read_csv(file) for file in files]\n",
      "/tmp/ipykernel_2966836/4195686458.py:12: DtypeWarning: Columns (7) have mixed types. Specify dtype option on import or set low_memory=False.\n",
      "  dfs = [pd.read_csv(file) for file in files]\n",
      "/tmp/ipykernel_2966836/4195686458.py:12: DtypeWarning: Columns (7) have mixed types. Specify dtype option on import or set low_memory=False.\n",
      "  dfs = [pd.read_csv(file) for file in files]\n",
      "/tmp/ipykernel_2966836/4195686458.py:12: DtypeWarning: Columns (7) have mixed types. Specify dtype option on import or set low_memory=False.\n",
      "  dfs = [pd.read_csv(file) for file in files]\n",
      "/tmp/ipykernel_2966836/4195686458.py:12: DtypeWarning: Columns (7) have mixed types. Specify dtype option on import or set low_memory=False.\n",
      "  dfs = [pd.read_csv(file) for file in files]\n",
      "/tmp/ipykernel_2966836/4195686458.py:12: DtypeWarning: Columns (7) have mixed types. Specify dtype option on import or set low_memory=False.\n",
      "  dfs = [pd.read_csv(file) for file in files]\n",
      "/tmp/ipykernel_2966836/4195686458.py:12: DtypeWarning: Columns (7) have mixed types. Specify dtype option on import or set low_memory=False.\n",
      "  dfs = [pd.read_csv(file) for file in files]\n",
      "/tmp/ipykernel_2966836/4195686458.py:12: DtypeWarning: Columns (7) have mixed types. Specify dtype option on import or set low_memory=False.\n",
      "  dfs = [pd.read_csv(file) for file in files]\n",
      "/tmp/ipykernel_2966836/4195686458.py:12: DtypeWarning: Columns (7) have mixed types. Specify dtype option on import or set low_memory=False.\n",
      "  dfs = [pd.read_csv(file) for file in files]\n",
      "/tmp/ipykernel_2966836/4195686458.py:12: DtypeWarning: Columns (7) have mixed types. Specify dtype option on import or set low_memory=False.\n",
      "  dfs = [pd.read_csv(file) for file in files]\n",
      "/tmp/ipykernel_2966836/4195686458.py:12: DtypeWarning: Columns (7) have mixed types. Specify dtype option on import or set low_memory=False.\n",
      "  dfs = [pd.read_csv(file) for file in files]\n",
      "/tmp/ipykernel_2966836/4195686458.py:12: DtypeWarning: Columns (7) have mixed types. Specify dtype option on import or set low_memory=False.\n",
      "  dfs = [pd.read_csv(file) for file in files]\n",
      "/tmp/ipykernel_2966836/4195686458.py:12: DtypeWarning: Columns (7) have mixed types. Specify dtype option on import or set low_memory=False.\n",
      "  dfs = [pd.read_csv(file) for file in files]\n",
      "/tmp/ipykernel_2966836/4195686458.py:12: DtypeWarning: Columns (7) have mixed types. Specify dtype option on import or set low_memory=False.\n",
      "  dfs = [pd.read_csv(file) for file in files]\n",
      "/tmp/ipykernel_2966836/4195686458.py:12: DtypeWarning: Columns (7,10) have mixed types. Specify dtype option on import or set low_memory=False.\n",
      "  dfs = [pd.read_csv(file) for file in files]\n",
      "/tmp/ipykernel_2966836/4195686458.py:12: DtypeWarning: Columns (7) have mixed types. Specify dtype option on import or set low_memory=False.\n",
      "  dfs = [pd.read_csv(file) for file in files]\n",
      "/tmp/ipykernel_2966836/4195686458.py:12: DtypeWarning: Columns (7,10) have mixed types. Specify dtype option on import or set low_memory=False.\n",
      "  dfs = [pd.read_csv(file) for file in files]\n"
     ]
    }
   ],
   "source": [
    "import pandas as pd\n",
    "from glob import glob\n",
    "np.random.seed(12345)\n",
    "\n",
    "# Path to the CSV files\n",
    "path = '/GWSB/home/g35026169/Desktop/Vectorized_Stacked/stacked_*.csv'\n",
    "\n",
    "# Use glob to match the pattern and get a list of file names\n",
    "files = glob(path)\n",
    "\n",
    "# Read each CSV file and store them in a list\n",
    "dfs = [pd.read_csv(file) for file in files]\n",
    "\n",
    "# Concatenate all DataFrames in the list into one\n",
    "df = pd.concat(dfs, ignore_index=True)"
   ]
  },
  {
   "cell_type": "code",
   "execution_count": 3,
   "id": "68a10d45",
   "metadata": {},
   "outputs": [
    {
     "data": {
      "text/html": [
       "<div>\n",
       "<style scoped>\n",
       "    .dataframe tbody tr th:only-of-type {\n",
       "        vertical-align: middle;\n",
       "    }\n",
       "\n",
       "    .dataframe tbody tr th {\n",
       "        vertical-align: top;\n",
       "    }\n",
       "\n",
       "    .dataframe thead th {\n",
       "        text-align: right;\n",
       "    }\n",
       "</style>\n",
       "<table border=\"1\" class=\"dataframe\">\n",
       "  <thead>\n",
       "    <tr style=\"text-align: right;\">\n",
       "      <th></th>\n",
       "      <th>Group</th>\n",
       "      <th>DEFAULT</th>\n",
       "      <th>Horizon</th>\n",
       "      <th>Source</th>\n",
       "      <th>CURRENT LOAN DELINQUENCY STATUS</th>\n",
       "      <th>LOAN AGE</th>\n",
       "      <th>CURRENT INTEREST RATE</th>\n",
       "      <th>ESTIMATED LOAN TO VALUE (ELTV)</th>\n",
       "      <th>CREDIT SCORE</th>\n",
       "      <th>FIRST TIME HOMEBUYER FLAG</th>\n",
       "      <th>...</th>\n",
       "      <th>ORIGINAL INTEREST RATE</th>\n",
       "      <th>PROPERTY TYPE</th>\n",
       "      <th>LOAN PURPOSE</th>\n",
       "      <th>SELLER NAME</th>\n",
       "      <th>OrigYear</th>\n",
       "      <th>OrigDate</th>\n",
       "      <th>index_sa</th>\n",
       "      <th>UNRATE</th>\n",
       "      <th>inflation</th>\n",
       "      <th>% Change in UPB</th>\n",
       "    </tr>\n",
       "  </thead>\n",
       "  <tbody>\n",
       "    <tr>\n",
       "      <th>0</th>\n",
       "      <td>0</td>\n",
       "      <td>0</td>\n",
       "      <td>0</td>\n",
       "      <td>orig</td>\n",
       "      <td>0</td>\n",
       "      <td>0</td>\n",
       "      <td>6.5</td>\n",
       "      <td>Undefined</td>\n",
       "      <td>800</td>\n",
       "      <td>N</td>\n",
       "      <td>...</td>\n",
       "      <td>6.5</td>\n",
       "      <td>MH</td>\n",
       "      <td>P</td>\n",
       "      <td>Other sellers</td>\n",
       "      <td>2007</td>\n",
       "      <td>2007Q1</td>\n",
       "      <td>223.95</td>\n",
       "      <td>4.5</td>\n",
       "      <td>2.4</td>\n",
       "      <td>0.0</td>\n",
       "    </tr>\n",
       "    <tr>\n",
       "      <th>1</th>\n",
       "      <td>1</td>\n",
       "      <td>0</td>\n",
       "      <td>0</td>\n",
       "      <td>orig</td>\n",
       "      <td>0</td>\n",
       "      <td>1</td>\n",
       "      <td>6.5</td>\n",
       "      <td>0.996</td>\n",
       "      <td>800</td>\n",
       "      <td>N</td>\n",
       "      <td>...</td>\n",
       "      <td>6.5</td>\n",
       "      <td>MH</td>\n",
       "      <td>P</td>\n",
       "      <td>Other sellers</td>\n",
       "      <td>2007</td>\n",
       "      <td>2007Q1</td>\n",
       "      <td>224.85</td>\n",
       "      <td>4.4</td>\n",
       "      <td>2.8</td>\n",
       "      <td>0.0</td>\n",
       "    </tr>\n",
       "    <tr>\n",
       "      <th>2</th>\n",
       "      <td>1</td>\n",
       "      <td>0</td>\n",
       "      <td>1</td>\n",
       "      <td>Duplicated</td>\n",
       "      <td>0</td>\n",
       "      <td>0</td>\n",
       "      <td>6.5</td>\n",
       "      <td>Undefined</td>\n",
       "      <td>800</td>\n",
       "      <td>N</td>\n",
       "      <td>...</td>\n",
       "      <td>6.5</td>\n",
       "      <td>MH</td>\n",
       "      <td>P</td>\n",
       "      <td>Other sellers</td>\n",
       "      <td>2007</td>\n",
       "      <td>2007Q1</td>\n",
       "      <td>223.95</td>\n",
       "      <td>4.5</td>\n",
       "      <td>2.4</td>\n",
       "      <td>0.0</td>\n",
       "    </tr>\n",
       "    <tr>\n",
       "      <th>3</th>\n",
       "      <td>2</td>\n",
       "      <td>0</td>\n",
       "      <td>0</td>\n",
       "      <td>orig</td>\n",
       "      <td>0</td>\n",
       "      <td>2</td>\n",
       "      <td>6.5</td>\n",
       "      <td>0.9959</td>\n",
       "      <td>800</td>\n",
       "      <td>N</td>\n",
       "      <td>...</td>\n",
       "      <td>6.5</td>\n",
       "      <td>MH</td>\n",
       "      <td>P</td>\n",
       "      <td>Other sellers</td>\n",
       "      <td>2007</td>\n",
       "      <td>2007Q1</td>\n",
       "      <td>224.88</td>\n",
       "      <td>4.5</td>\n",
       "      <td>2.6</td>\n",
       "      <td>0.0</td>\n",
       "    </tr>\n",
       "    <tr>\n",
       "      <th>4</th>\n",
       "      <td>2</td>\n",
       "      <td>0</td>\n",
       "      <td>1</td>\n",
       "      <td>Duplicated</td>\n",
       "      <td>0</td>\n",
       "      <td>1</td>\n",
       "      <td>6.5</td>\n",
       "      <td>0.996</td>\n",
       "      <td>800</td>\n",
       "      <td>N</td>\n",
       "      <td>...</td>\n",
       "      <td>6.5</td>\n",
       "      <td>MH</td>\n",
       "      <td>P</td>\n",
       "      <td>Other sellers</td>\n",
       "      <td>2007</td>\n",
       "      <td>2007Q1</td>\n",
       "      <td>224.85</td>\n",
       "      <td>4.4</td>\n",
       "      <td>2.8</td>\n",
       "      <td>0.0</td>\n",
       "    </tr>\n",
       "  </tbody>\n",
       "</table>\n",
       "<p>5 rows × 21 columns</p>\n",
       "</div>"
      ],
      "text/plain": [
       "   Group  DEFAULT  Horizon      Source CURRENT LOAN DELINQUENCY STATUS  \\\n",
       "0      0        0        0        orig                               0   \n",
       "1      1        0        0        orig                               0   \n",
       "2      1        0        1  Duplicated                               0   \n",
       "3      2        0        0        orig                               0   \n",
       "4      2        0        1  Duplicated                               0   \n",
       "\n",
       "   LOAN AGE  CURRENT INTEREST RATE ESTIMATED LOAN TO VALUE (ELTV)  \\\n",
       "0         0                    6.5                      Undefined   \n",
       "1         1                    6.5                          0.996   \n",
       "2         0                    6.5                      Undefined   \n",
       "3         2                    6.5                         0.9959   \n",
       "4         1                    6.5                          0.996   \n",
       "\n",
       "   CREDIT SCORE FIRST TIME HOMEBUYER FLAG  ... ORIGINAL INTEREST RATE  \\\n",
       "0           800                         N  ...                    6.5   \n",
       "1           800                         N  ...                    6.5   \n",
       "2           800                         N  ...                    6.5   \n",
       "3           800                         N  ...                    6.5   \n",
       "4           800                         N  ...                    6.5   \n",
       "\n",
       "   PROPERTY TYPE LOAN PURPOSE    SELLER NAME OrigYear  OrigDate index_sa  \\\n",
       "0             MH            P  Other sellers     2007    2007Q1   223.95   \n",
       "1             MH            P  Other sellers     2007    2007Q1   224.85   \n",
       "2             MH            P  Other sellers     2007    2007Q1   223.95   \n",
       "3             MH            P  Other sellers     2007    2007Q1   224.88   \n",
       "4             MH            P  Other sellers     2007    2007Q1   224.85   \n",
       "\n",
       "   UNRATE  inflation  % Change in UPB  \n",
       "0     4.5        2.4              0.0  \n",
       "1     4.4        2.8              0.0  \n",
       "2     4.5        2.4              0.0  \n",
       "3     4.5        2.6              0.0  \n",
       "4     4.4        2.8              0.0  \n",
       "\n",
       "[5 rows x 21 columns]"
      ]
     },
     "execution_count": 3,
     "metadata": {},
     "output_type": "execute_result"
    }
   ],
   "source": [
    "np.random.seed(12345)\n",
    "# Drop specified columns\n",
    "df = df.drop(columns=['LOAN SEQUENCE NUMBER','MONTHLY REPORTING PERIOD', 'CURRENT ACTUAL UPB', 'OrigQuarter'])\n",
    "df.head()"
   ]
  },
  {
   "cell_type": "code",
   "execution_count": 4,
   "id": "8e8bea0e",
   "metadata": {},
   "outputs": [],
   "source": [
    "np.random.seed(12345)\n",
    "\n",
    "full_timeseries = df.sort_values(by='OrigDate', ascending=True)"
   ]
  },
  {
   "cell_type": "code",
   "execution_count": 5,
   "id": "8ff44ecf",
   "metadata": {},
   "outputs": [],
   "source": [
    "np.random.seed(12345)\n",
    "\n",
    "full_timeseries = full_timeseries.dropna(subset=[\"% Change in UPB\"])"
   ]
  },
  {
   "cell_type": "code",
   "execution_count": 6,
   "id": "30f317d6",
   "metadata": {},
   "outputs": [
    {
     "data": {
      "text/html": [
       "<div>\n",
       "<style scoped>\n",
       "    .dataframe tbody tr th:only-of-type {\n",
       "        vertical-align: middle;\n",
       "    }\n",
       "\n",
       "    .dataframe tbody tr th {\n",
       "        vertical-align: top;\n",
       "    }\n",
       "\n",
       "    .dataframe thead th {\n",
       "        text-align: right;\n",
       "    }\n",
       "</style>\n",
       "<table border=\"1\" class=\"dataframe\">\n",
       "  <thead>\n",
       "    <tr style=\"text-align: right;\">\n",
       "      <th></th>\n",
       "      <th>Group</th>\n",
       "      <th>DEFAULT</th>\n",
       "      <th>Horizon</th>\n",
       "      <th>Source</th>\n",
       "      <th>CURRENT LOAN DELINQUENCY STATUS</th>\n",
       "      <th>LOAN AGE</th>\n",
       "      <th>CURRENT INTEREST RATE</th>\n",
       "      <th>ESTIMATED LOAN TO VALUE (ELTV)</th>\n",
       "      <th>CREDIT SCORE</th>\n",
       "      <th>FIRST TIME HOMEBUYER FLAG</th>\n",
       "      <th>...</th>\n",
       "      <th>ORIGINAL INTEREST RATE</th>\n",
       "      <th>PROPERTY TYPE</th>\n",
       "      <th>LOAN PURPOSE</th>\n",
       "      <th>SELLER NAME</th>\n",
       "      <th>OrigYear</th>\n",
       "      <th>OrigDate</th>\n",
       "      <th>index_sa</th>\n",
       "      <th>UNRATE</th>\n",
       "      <th>inflation</th>\n",
       "      <th>% Change in UPB</th>\n",
       "    </tr>\n",
       "  </thead>\n",
       "  <tbody>\n",
       "    <tr>\n",
       "      <th>57395187</th>\n",
       "      <td>4656</td>\n",
       "      <td>0</td>\n",
       "      <td>0</td>\n",
       "      <td>orig</td>\n",
       "      <td>0</td>\n",
       "      <td>0</td>\n",
       "      <td>6.375</td>\n",
       "      <td>Undefined</td>\n",
       "      <td>771</td>\n",
       "      <td>N</td>\n",
       "      <td>...</td>\n",
       "      <td>6.375</td>\n",
       "      <td>SF</td>\n",
       "      <td>P</td>\n",
       "      <td>GUARANTEED RATE, INC.</td>\n",
       "      <td>2023</td>\n",
       "      <td>2023Q2</td>\n",
       "      <td>403.44</td>\n",
       "      <td>3.7</td>\n",
       "      <td>4.0</td>\n",
       "      <td>-0.18</td>\n",
       "    </tr>\n",
       "    <tr>\n",
       "      <th>57395186</th>\n",
       "      <td>4655</td>\n",
       "      <td>0</td>\n",
       "      <td>4</td>\n",
       "      <td>Duplicated</td>\n",
       "      <td>0</td>\n",
       "      <td>0</td>\n",
       "      <td>6.375</td>\n",
       "      <td>Undefined</td>\n",
       "      <td>762</td>\n",
       "      <td>Y</td>\n",
       "      <td>...</td>\n",
       "      <td>6.375</td>\n",
       "      <td>SF</td>\n",
       "      <td>P</td>\n",
       "      <td>GUARANTEED RATE, INC.</td>\n",
       "      <td>2023</td>\n",
       "      <td>2023Q2</td>\n",
       "      <td>403.44</td>\n",
       "      <td>3.7</td>\n",
       "      <td>4.0</td>\n",
       "      <td>0.00</td>\n",
       "    </tr>\n",
       "    <tr>\n",
       "      <th>57395185</th>\n",
       "      <td>4655</td>\n",
       "      <td>0</td>\n",
       "      <td>3</td>\n",
       "      <td>Duplicated</td>\n",
       "      <td>0</td>\n",
       "      <td>1</td>\n",
       "      <td>6.375</td>\n",
       "      <td>0.9947</td>\n",
       "      <td>762</td>\n",
       "      <td>Y</td>\n",
       "      <td>...</td>\n",
       "      <td>6.375</td>\n",
       "      <td>SF</td>\n",
       "      <td>P</td>\n",
       "      <td>GUARANTEED RATE, INC.</td>\n",
       "      <td>2023</td>\n",
       "      <td>2023Q2</td>\n",
       "      <td>405.61</td>\n",
       "      <td>3.6</td>\n",
       "      <td>3.0</td>\n",
       "      <td>0.00</td>\n",
       "    </tr>\n",
       "    <tr>\n",
       "      <th>57395193</th>\n",
       "      <td>4659</td>\n",
       "      <td>0</td>\n",
       "      <td>0</td>\n",
       "      <td>orig</td>\n",
       "      <td>0</td>\n",
       "      <td>3</td>\n",
       "      <td>6.375</td>\n",
       "      <td>0.9756</td>\n",
       "      <td>771</td>\n",
       "      <td>N</td>\n",
       "      <td>...</td>\n",
       "      <td>6.375</td>\n",
       "      <td>SF</td>\n",
       "      <td>P</td>\n",
       "      <td>GUARANTEED RATE, INC.</td>\n",
       "      <td>2023</td>\n",
       "      <td>2023Q2</td>\n",
       "      <td>412.04</td>\n",
       "      <td>3.8</td>\n",
       "      <td>3.7</td>\n",
       "      <td>-0.36</td>\n",
       "    </tr>\n",
       "    <tr>\n",
       "      <th>57393393</th>\n",
       "      <td>4055</td>\n",
       "      <td>0</td>\n",
       "      <td>2</td>\n",
       "      <td>Duplicated</td>\n",
       "      <td>0</td>\n",
       "      <td>2</td>\n",
       "      <td>5.875</td>\n",
       "      <td>0.9535</td>\n",
       "      <td>766</td>\n",
       "      <td>Y</td>\n",
       "      <td>...</td>\n",
       "      <td>5.875</td>\n",
       "      <td>CO</td>\n",
       "      <td>P</td>\n",
       "      <td>UNITED WHOLESALE MORTGAGE, LLC</td>\n",
       "      <td>2023</td>\n",
       "      <td>2023Q2</td>\n",
       "      <td>409.00</td>\n",
       "      <td>3.5</td>\n",
       "      <td>3.2</td>\n",
       "      <td>-3.33</td>\n",
       "    </tr>\n",
       "  </tbody>\n",
       "</table>\n",
       "<p>5 rows × 21 columns</p>\n",
       "</div>"
      ],
      "text/plain": [
       "          Group  DEFAULT  Horizon      Source CURRENT LOAN DELINQUENCY STATUS  \\\n",
       "57395187   4656        0        0        orig                               0   \n",
       "57395186   4655        0        4  Duplicated                               0   \n",
       "57395185   4655        0        3  Duplicated                               0   \n",
       "57395193   4659        0        0        orig                               0   \n",
       "57393393   4055        0        2  Duplicated                               0   \n",
       "\n",
       "          LOAN AGE  CURRENT INTEREST RATE ESTIMATED LOAN TO VALUE (ELTV)  \\\n",
       "57395187         0                  6.375                      Undefined   \n",
       "57395186         0                  6.375                      Undefined   \n",
       "57395185         1                  6.375                         0.9947   \n",
       "57395193         3                  6.375                         0.9756   \n",
       "57393393         2                  5.875                         0.9535   \n",
       "\n",
       "          CREDIT SCORE FIRST TIME HOMEBUYER FLAG  ... ORIGINAL INTEREST RATE  \\\n",
       "57395187           771                         N  ...                  6.375   \n",
       "57395186           762                         Y  ...                  6.375   \n",
       "57395185           762                         Y  ...                  6.375   \n",
       "57395193           771                         N  ...                  6.375   \n",
       "57393393           766                         Y  ...                  5.875   \n",
       "\n",
       "          PROPERTY TYPE LOAN PURPOSE                     SELLER NAME OrigYear  \\\n",
       "57395187             SF            P           GUARANTEED RATE, INC.     2023   \n",
       "57395186             SF            P           GUARANTEED RATE, INC.     2023   \n",
       "57395185             SF            P           GUARANTEED RATE, INC.     2023   \n",
       "57395193             SF            P           GUARANTEED RATE, INC.     2023   \n",
       "57393393             CO            P  UNITED WHOLESALE MORTGAGE, LLC     2023   \n",
       "\n",
       "          OrigDate index_sa  UNRATE  inflation  % Change in UPB  \n",
       "57395187    2023Q2   403.44     3.7        4.0            -0.18  \n",
       "57395186    2023Q2   403.44     3.7        4.0             0.00  \n",
       "57395185    2023Q2   405.61     3.6        3.0             0.00  \n",
       "57395193    2023Q2   412.04     3.8        3.7            -0.36  \n",
       "57393393    2023Q2   409.00     3.5        3.2            -3.33  \n",
       "\n",
       "[5 rows x 21 columns]"
      ]
     },
     "execution_count": 6,
     "metadata": {},
     "output_type": "execute_result"
    }
   ],
   "source": [
    "np.random.seed(12345)\n",
    "\n",
    "# Convert Decimal to Percentage in the % Change in UPB Column\n",
    "full_timeseries['% Change in UPB'] = full_timeseries['% Change in UPB'] * 100\n",
    "full_timeseries.tail()"
   ]
  },
  {
   "cell_type": "code",
   "execution_count": 7,
   "id": "6f8389be",
   "metadata": {},
   "outputs": [
    {
     "name": "stdout",
     "output_type": "stream",
     "text": [
      "Total number of rows in the DataFrame: 97262009\n"
     ]
    }
   ],
   "source": [
    "np.random.seed(12345)\n",
    "\n",
    "total_rows = len(full_timeseries) \n",
    "print(f\"Total number of rows in the DataFrame: {total_rows}\")"
   ]
  },
  {
   "cell_type": "code",
   "execution_count": 8,
   "id": "e9120ab7",
   "metadata": {},
   "outputs": [],
   "source": [
    "np.random.seed(12345)\n",
    "\n",
    "# Reset the index \n",
    "full_timeseries.reset_index(drop=True, inplace=True)"
   ]
  },
  {
   "cell_type": "code",
   "execution_count": 9,
   "id": "9e2eb7db",
   "metadata": {},
   "outputs": [
    {
     "name": "stdout",
     "output_type": "stream",
     "text": [
      "End of test index (inclusive): 97262009\n"
     ]
    }
   ],
   "source": [
    "np.random.seed(12345)\n",
    "\n",
    "# Now that the DataFrame is sorted and the index has been reset, fetch indices for 2022 and 2023\n",
    "end_test_idx = total_rows\n",
    "\n",
    "print(f\"End of test index (inclusive): {end_test_idx}\")"
   ]
  },
  {
   "cell_type": "code",
   "execution_count": 10,
   "id": "97111a9f",
   "metadata": {},
   "outputs": [
    {
     "name": "stdout",
     "output_type": "stream",
     "text": [
      "Training data ends at index: 77809607\n",
      "Testing data starts at index: 77809608 and ends at index: 97262009\n"
     ]
    }
   ],
   "source": [
    "np.random.seed(12345)\n",
    "\n",
    "# Calculate the index that represents 80% of the data up to the end of 2023\n",
    "split_index = int(end_test_idx * 0.8)\n",
    "\n",
    "# Print the calculated split index\n",
    "print(f\"Training data ends at index: {split_index}\")\n",
    "print(f\"Testing data starts at index: {split_index + 1} and ends at index: {end_test_idx}\")"
   ]
  },
  {
   "cell_type": "code",
   "execution_count": 11,
   "id": "9a952dc2",
   "metadata": {},
   "outputs": [],
   "source": [
    "np.random.seed(12345)\n",
    "\n",
    "full_timeseries['ESTIMATED LOAN TO VALUE (ELTV)'] = pd.to_numeric(full_timeseries['ESTIMATED LOAN TO VALUE (ELTV)'], errors='coerce').fillna(-1)"
   ]
  },
  {
   "cell_type": "code",
   "execution_count": 12,
   "id": "1e267e5a",
   "metadata": {},
   "outputs": [
    {
     "name": "stdout",
     "output_type": "stream",
     "text": [
      "Is 'undefined' present in the ELTV column? False\n"
     ]
    }
   ],
   "source": [
    "np.random.seed(12345)\n",
    "\n",
    "contains_undefined = full_timeseries['ESTIMATED LOAN TO VALUE (ELTV)'].isin(['undefined']).any()\n",
    "\n",
    "print(\"Is 'undefined' present in the ELTV column?\", contains_undefined)"
   ]
  },
  {
   "cell_type": "code",
   "execution_count": 13,
   "id": "91c9672d",
   "metadata": {},
   "outputs": [],
   "source": [
    "np.random.seed(12345)\n",
    "\n",
    "full_timeseries['CURRENT LOAN DELINQUENCY STATUS'] = full_timeseries['CURRENT LOAN DELINQUENCY STATUS'].astype(str)\n",
    "full_timeseries['CURRENT INTEREST RATE'] = full_timeseries['CURRENT INTEREST RATE'].astype(np.float32)\n",
    "full_timeseries['ESTIMATED LOAN TO VALUE (ELTV)'] = full_timeseries['ESTIMATED LOAN TO VALUE (ELTV)'].astype(np.float32)\n",
    "full_timeseries['ORIGINAL INTEREST RATE'] = full_timeseries['ORIGINAL INTEREST RATE'].astype(np.float32)\n",
    "full_timeseries['index_sa'] = full_timeseries['index_sa'].astype(np.float32)\n",
    "full_timeseries['UNRATE'] = full_timeseries['UNRATE'].astype(np.float32)\n",
    "full_timeseries['inflation'] = full_timeseries['inflation'].astype(np.float32)\n",
    "full_timeseries['% Change in UPB'] = full_timeseries['% Change in UPB'].astype(np.float32)\n",
    "full_timeseries['OrigYear'] = full_timeseries['OrigYear'].astype(str)\n",
    "\n",
    "full_timeseries.drop(columns=['CURRENT LOAN DELINQUENCY STATUS'], inplace=True)\n",
    "full_timeseries.drop(columns=['LOAN AGE'], inplace=True)"
   ]
  },
  {
   "cell_type": "code",
   "execution_count": 14,
   "id": "a52f7a26",
   "metadata": {},
   "outputs": [
    {
     "name": "stdout",
     "output_type": "stream",
     "text": [
      "Group                               int64\n",
      "DEFAULT                             int64\n",
      "Horizon                             int64\n",
      "Source                             object\n",
      "CURRENT INTEREST RATE             float32\n",
      "ESTIMATED LOAN TO VALUE (ELTV)    float32\n",
      "CREDIT SCORE                        int64\n",
      "FIRST TIME HOMEBUYER FLAG          object\n",
      "OCCUPANCY STATUS                   object\n",
      "ORIGINAL INTEREST RATE            float32\n",
      "PROPERTY TYPE                      object\n",
      "LOAN PURPOSE                       object\n",
      "SELLER NAME                        object\n",
      "OrigYear                           object\n",
      "OrigDate                           object\n",
      "index_sa                          float32\n",
      "UNRATE                            float32\n",
      "inflation                         float32\n",
      "% Change in UPB                   float32\n",
      "dtype: object\n"
     ]
    }
   ],
   "source": [
    "np.random.seed(12345)\n",
    "\n",
    "column_types = full_timeseries.dtypes\n",
    "print(column_types)"
   ]
  },
  {
   "cell_type": "code",
   "execution_count": 87,
   "id": "fda9d755",
   "metadata": {},
   "outputs": [
    {
     "data": {
      "application/vnd.jupyter.widget-view+json": {
       "model_id": "9b7839135b194ad790bd99df11938d7b",
       "version_major": 2,
       "version_minor": 0
      },
      "text/plain": [
       "HTML(value='\\n        <style>\\n\\n        .left-label {\\n            width: 30%;\\n        }\\n\\n        .card-pa…"
      ]
     },
     "metadata": {},
     "output_type": "display_data"
    },
    {
     "data": {
      "application/javascript": [
       "\n",
       "        IPython.OutputArea.prototype._should_scroll = function(lines) {\n",
       "            return false;\n",
       "        }"
      ],
      "text/plain": [
       "<IPython.core.display.Javascript object>"
      ]
     },
     "metadata": {},
     "output_type": "display_data"
    },
    {
     "name": "stdout",
     "output_type": "stream",
     "text": [
      "Testing data starts at index: 0.5577932977782337 and ends at index: 4.825761110904377\n"
     ]
    }
   ],
   "source": [
    "np.random.seed(12345)\n",
    "\n",
    "import numpy as np\n",
    "from sklearn.utils.class_weight import compute_class_weight\n",
    "\n",
    "train = full_timeseries[:split_index]\n",
    "y = train['DEFAULT']\n",
    "arr = compute_class_weight(class_weight=\"balanced\", classes=np.unique(y), y=y)\n",
    "\n",
    "value1, value2 = arr\n",
    "print(f\"Testing data starts at index: {value1} and ends at index: {value2}\")"
   ]
  },
  {
   "cell_type": "code",
   "execution_count": 16,
   "id": "fd010d95",
   "metadata": {},
   "outputs": [],
   "source": [
    "np.random.seed(12345)\n",
    "\n",
    "full_timeseries['Weight'] = full_timeseries['DEFAULT'].apply(lambda x: value1 if x == 0 else value2)\n",
    "full_timeseries['Weight'] = full_timeseries['Weight'].astype(np.float32)"
   ]
  },
  {
   "cell_type": "code",
   "execution_count": 17,
   "id": "3caf5c54",
   "metadata": {},
   "outputs": [],
   "source": [
    "full_timeseries.drop(columns=['Source'], inplace=True)\n",
    "full_timeseries.drop(columns=['Group'], inplace=True)\n",
    "full_timeseries['Horizon'] = full_timeseries['Horizon'].astype(str)"
   ]
  },
  {
   "cell_type": "markdown",
   "id": "e782fc61",
   "metadata": {},
   "source": [
    "# PiML - Stacked Dataset (after vectorization)"
   ]
  },
  {
   "cell_type": "code",
   "execution_count": 18,
   "id": "ec32a83c",
   "metadata": {},
   "outputs": [],
   "source": [
    "from piml import Experiment\n",
    "np.random.seed(12345)\n",
    "\n",
    "exp = Experiment()\n",
    "exp.data_loader(data = full_timeseries, silent=True)"
   ]
  },
  {
   "cell_type": "code",
   "execution_count": 19,
   "id": "9ac00e92",
   "metadata": {
    "scrolled": false
   },
   "outputs": [
    {
     "data": {
      "application/vnd.jupyter.widget-view+json": {
       "model_id": "857748610959497087e46e3948dceec8",
       "version_major": 2,
       "version_minor": 0
      },
      "text/plain": [
       "HTML(value='\\n        <style>\\n\\n        .left-label {\\n            width: 30%;\\n        }\\n\\n        .card-pa…"
      ]
     },
     "metadata": {},
     "output_type": "display_data"
    },
    {
     "data": {
      "application/javascript": [
       "\n",
       "        IPython.OutputArea.prototype._should_scroll = function(lines) {\n",
       "            return false;\n",
       "        }"
      ],
      "text/plain": [
       "<IPython.core.display.Javascript object>"
      ]
     },
     "metadata": {},
     "output_type": "display_data"
    },
    {
     "data": {
      "text/html": [
       "<style type=\"text/css\">\n",
       "</style>\n",
       "<table id=\"T_8a076\" style='display:inline'>\n",
       "  <caption>Numerical Attributes</caption>\n",
       "  <thead>\n",
       "    <tr>\n",
       "      <th class=\"blank level0\" >&nbsp;</th>\n",
       "      <th id=\"T_8a076_level0_col0\" class=\"col_heading level0 col0\" >name</th>\n",
       "      <th id=\"T_8a076_level0_col1\" class=\"col_heading level0 col1\" >n_missing</th>\n",
       "      <th id=\"T_8a076_level0_col2\" class=\"col_heading level0 col2\" >mean</th>\n",
       "      <th id=\"T_8a076_level0_col3\" class=\"col_heading level0 col3\" >std</th>\n",
       "      <th id=\"T_8a076_level0_col4\" class=\"col_heading level0 col4\" >min</th>\n",
       "      <th id=\"T_8a076_level0_col5\" class=\"col_heading level0 col5\" >q1</th>\n",
       "      <th id=\"T_8a076_level0_col6\" class=\"col_heading level0 col6\" >median</th>\n",
       "      <th id=\"T_8a076_level0_col7\" class=\"col_heading level0 col7\" >q3</th>\n",
       "      <th id=\"T_8a076_level0_col8\" class=\"col_heading level0 col8\" >max</th>\n",
       "    </tr>\n",
       "  </thead>\n",
       "  <tbody>\n",
       "    <tr>\n",
       "      <th id=\"T_8a076_level0_row0\" class=\"row_heading level0 row0\" >0</th>\n",
       "      <td id=\"T_8a076_row0_col0\" class=\"data row0 col0\" >CURRENT INTEREST RATE</td>\n",
       "      <td id=\"T_8a076_row0_col1\" class=\"data row0 col1\" >0</td>\n",
       "      <td id=\"T_8a076_row0_col2\" class=\"data row0 col2\" >5.2481</td>\n",
       "      <td id=\"T_8a076_row0_col3\" class=\"data row0 col3\" >1.2918</td>\n",
       "      <td id=\"T_8a076_row0_col4\" class=\"data row0 col4\" >1.9990</td>\n",
       "      <td id=\"T_8a076_row0_col5\" class=\"data row0 col5\" >4.2500</td>\n",
       "      <td id=\"T_8a076_row0_col6\" class=\"data row0 col6\" >5.1250</td>\n",
       "      <td id=\"T_8a076_row0_col7\" class=\"data row0 col7\" >6.1250</td>\n",
       "      <td id=\"T_8a076_row0_col8\" class=\"data row0 col8\" >46.2500</td>\n",
       "    </tr>\n",
       "    <tr>\n",
       "      <th id=\"T_8a076_level0_row1\" class=\"row_heading level0 row1\" >1</th>\n",
       "      <td id=\"T_8a076_row1_col0\" class=\"data row1 col0\" >ESTIMATED LOAN TO VALUE (ELTV)</td>\n",
       "      <td id=\"T_8a076_row1_col1\" class=\"data row1 col1\" >0</td>\n",
       "      <td id=\"T_8a076_row1_col2\" class=\"data row1 col2\" >0.8083</td>\n",
       "      <td id=\"T_8a076_row1_col3\" class=\"data row1 col3\" >0.2925</td>\n",
       "      <td id=\"T_8a076_row1_col4\" class=\"data row1 col4\" >-1.0000</td>\n",
       "      <td id=\"T_8a076_row1_col5\" class=\"data row1 col5\" >0.7265</td>\n",
       "      <td id=\"T_8a076_row1_col6\" class=\"data row1 col6\" >0.8582</td>\n",
       "      <td id=\"T_8a076_row1_col7\" class=\"data row1 col7\" >0.9636</td>\n",
       "      <td id=\"T_8a076_row1_col8\" class=\"data row1 col8\" >2.3467</td>\n",
       "    </tr>\n",
       "    <tr>\n",
       "      <th id=\"T_8a076_level0_row2\" class=\"row_heading level0 row2\" >2</th>\n",
       "      <td id=\"T_8a076_row2_col0\" class=\"data row2 col0\" >CREDIT SCORE</td>\n",
       "      <td id=\"T_8a076_row2_col1\" class=\"data row2 col1\" >0</td>\n",
       "      <td id=\"T_8a076_row2_col2\" class=\"data row2 col2\" >731.4670</td>\n",
       "      <td id=\"T_8a076_row2_col3\" class=\"data row2 col3\" >406.8908</td>\n",
       "      <td id=\"T_8a076_row2_col4\" class=\"data row2 col4\" >300.0000</td>\n",
       "      <td id=\"T_8a076_row2_col5\" class=\"data row2 col5\" >672.0000</td>\n",
       "      <td id=\"T_8a076_row2_col6\" class=\"data row2 col6\" >717.0000</td>\n",
       "      <td id=\"T_8a076_row2_col7\" class=\"data row2 col7\" >763.0000</td>\n",
       "      <td id=\"T_8a076_row2_col8\" class=\"data row2 col8\" >9999.0000</td>\n",
       "    </tr>\n",
       "    <tr>\n",
       "      <th id=\"T_8a076_level0_row3\" class=\"row_heading level0 row3\" >3</th>\n",
       "      <td id=\"T_8a076_row3_col0\" class=\"data row3 col0\" >ORIGINAL INTEREST RATE</td>\n",
       "      <td id=\"T_8a076_row3_col1\" class=\"data row3 col1\" >0</td>\n",
       "      <td id=\"T_8a076_row3_col2\" class=\"data row3 col2\" >5.3721</td>\n",
       "      <td id=\"T_8a076_row3_col3\" class=\"data row3 col3\" >1.2444</td>\n",
       "      <td id=\"T_8a076_row3_col4\" class=\"data row3 col4\" >1.9990</td>\n",
       "      <td id=\"T_8a076_row3_col5\" class=\"data row3 col5\" >4.3750</td>\n",
       "      <td id=\"T_8a076_row3_col6\" class=\"data row3 col6\" >5.3750</td>\n",
       "      <td id=\"T_8a076_row3_col7\" class=\"data row3 col7\" >6.2500</td>\n",
       "      <td id=\"T_8a076_row3_col8\" class=\"data row3 col8\" >10.7500</td>\n",
       "    </tr>\n",
       "    <tr>\n",
       "      <th id=\"T_8a076_level0_row4\" class=\"row_heading level0 row4\" >4</th>\n",
       "      <td id=\"T_8a076_row4_col0\" class=\"data row4 col0\" >OrigYear</td>\n",
       "      <td id=\"T_8a076_row4_col1\" class=\"data row4 col1\" >0</td>\n",
       "      <td id=\"T_8a076_row4_col2\" class=\"data row4 col2\" >2009.1868</td>\n",
       "      <td id=\"T_8a076_row4_col3\" class=\"data row4 col3\" >5.6175</td>\n",
       "      <td id=\"T_8a076_row4_col4\" class=\"data row4 col4\" >2000.0000</td>\n",
       "      <td id=\"T_8a076_row4_col5\" class=\"data row4 col5\" >2004.0000</td>\n",
       "      <td id=\"T_8a076_row4_col6\" class=\"data row4 col6\" >2009.0000</td>\n",
       "      <td id=\"T_8a076_row4_col7\" class=\"data row4 col7\" >2014.0000</td>\n",
       "      <td id=\"T_8a076_row4_col8\" class=\"data row4 col8\" >2023.0000</td>\n",
       "    </tr>\n",
       "    <tr>\n",
       "      <th id=\"T_8a076_level0_row5\" class=\"row_heading level0 row5\" >5</th>\n",
       "      <td id=\"T_8a076_row5_col0\" class=\"data row5 col0\" >index_sa</td>\n",
       "      <td id=\"T_8a076_row5_col1\" class=\"data row5 col1\" >0</td>\n",
       "      <td id=\"T_8a076_row5_col2\" class=\"data row5 col2\" >233.0332</td>\n",
       "      <td id=\"T_8a076_row5_col3\" class=\"data row5 col3\" >55.8029</td>\n",
       "      <td id=\"T_8a076_row5_col4\" class=\"data row5 col4\" >136.8600</td>\n",
       "      <td id=\"T_8a076_row5_col5\" class=\"data row5 col5\" >191.3200</td>\n",
       "      <td id=\"T_8a076_row5_col6\" class=\"data row5 col6\" >218.0800</td>\n",
       "      <td id=\"T_8a076_row5_col7\" class=\"data row5 col7\" >259.1200</td>\n",
       "      <td id=\"T_8a076_row5_col8\" class=\"data row5 col8\" >414.9800</td>\n",
       "    </tr>\n",
       "    <tr>\n",
       "      <th id=\"T_8a076_level0_row6\" class=\"row_heading level0 row6\" >6</th>\n",
       "      <td id=\"T_8a076_row6_col0\" class=\"data row6 col0\" >UNRATE</td>\n",
       "      <td id=\"T_8a076_row6_col1\" class=\"data row6 col1\" >0</td>\n",
       "      <td id=\"T_8a076_row6_col2\" class=\"data row6 col2\" >5.9679</td>\n",
       "      <td id=\"T_8a076_row6_col3\" class=\"data row6 col3\" >2.1044</td>\n",
       "      <td id=\"T_8a076_row6_col4\" class=\"data row6 col4\" >3.4000</td>\n",
       "      <td id=\"T_8a076_row6_col5\" class=\"data row6 col5\" >4.4000</td>\n",
       "      <td id=\"T_8a076_row6_col6\" class=\"data row6 col6\" >5.3000</td>\n",
       "      <td id=\"T_8a076_row6_col7\" class=\"data row6 col7\" >7.5000</td>\n",
       "      <td id=\"T_8a076_row6_col8\" class=\"data row6 col8\" >14.8000</td>\n",
       "    </tr>\n",
       "    <tr>\n",
       "      <th id=\"T_8a076_level0_row7\" class=\"row_heading level0 row7\" >7</th>\n",
       "      <td id=\"T_8a076_row7_col0\" class=\"data row7 col0\" >inflation</td>\n",
       "      <td id=\"T_8a076_row7_col1\" class=\"data row7 col1\" >0</td>\n",
       "      <td id=\"T_8a076_row7_col2\" class=\"data row7 col2\" >2.3605</td>\n",
       "      <td id=\"T_8a076_row7_col3\" class=\"data row7 col3\" >1.8272</td>\n",
       "      <td id=\"T_8a076_row7_col4\" class=\"data row7 col4\" >-2.1000</td>\n",
       "      <td id=\"T_8a076_row7_col5\" class=\"data row7 col5\" >1.4000</td>\n",
       "      <td id=\"T_8a076_row7_col6\" class=\"data row7 col6\" >2.0000</td>\n",
       "      <td id=\"T_8a076_row7_col7\" class=\"data row7 col7\" >2.9000</td>\n",
       "      <td id=\"T_8a076_row7_col8\" class=\"data row7 col8\" >9.1000</td>\n",
       "    </tr>\n",
       "    <tr>\n",
       "      <th id=\"T_8a076_level0_row8\" class=\"row_heading level0 row8\" >8</th>\n",
       "      <td id=\"T_8a076_row8_col0\" class=\"data row8 col0\" >% Change in UPB</td>\n",
       "      <td id=\"T_8a076_row8_col1\" class=\"data row8 col1\" >0</td>\n",
       "      <td id=\"T_8a076_row8_col2\" class=\"data row8 col2\" >-6.7407</td>\n",
       "      <td id=\"T_8a076_row8_col3\" class=\"data row8 col3\" >9.0409</td>\n",
       "      <td id=\"T_8a076_row8_col4\" class=\"data row8 col4\" >-100.0000</td>\n",
       "      <td id=\"T_8a076_row8_col5\" class=\"data row8 col5\" >-9.2100</td>\n",
       "      <td id=\"T_8a076_row8_col6\" class=\"data row8 col6\" >-4.3700</td>\n",
       "      <td id=\"T_8a076_row8_col7\" class=\"data row8 col7\" >-1.6400</td>\n",
       "      <td id=\"T_8a076_row8_col8\" class=\"data row8 col8\" >138.3000</td>\n",
       "    </tr>\n",
       "    <tr>\n",
       "      <th id=\"T_8a076_level0_row9\" class=\"row_heading level0 row9\" >9</th>\n",
       "      <td id=\"T_8a076_row9_col0\" class=\"data row9 col0\" >Weight</td>\n",
       "      <td id=\"T_8a076_row9_col1\" class=\"data row9 col1\" >0</td>\n",
       "      <td id=\"T_8a076_row9_col2\" class=\"data row9 col2\" >1.0020</td>\n",
       "      <td id=\"T_8a076_row9_col3\" class=\"data row9 col3\" >1.3032</td>\n",
       "      <td id=\"T_8a076_row9_col4\" class=\"data row9 col4\" >0.5578</td>\n",
       "      <td id=\"T_8a076_row9_col5\" class=\"data row9 col5\" >0.5578</td>\n",
       "      <td id=\"T_8a076_row9_col6\" class=\"data row9 col6\" >0.5578</td>\n",
       "      <td id=\"T_8a076_row9_col7\" class=\"data row9 col7\" >0.5578</td>\n",
       "      <td id=\"T_8a076_row9_col8\" class=\"data row9 col8\" >4.8258</td>\n",
       "    </tr>\n",
       "  </tbody>\n",
       "</table>\n",
       "<style type=\"text/css\">\n",
       "</style>\n",
       "<table id=\"T_f2f26\" style='display:inline'>\n",
       "  <caption>Categorical Attributes</caption>\n",
       "  <thead>\n",
       "    <tr>\n",
       "      <th class=\"blank level0\" >&nbsp;</th>\n",
       "      <th id=\"T_f2f26_level0_col0\" class=\"col_heading level0 col0\" >name</th>\n",
       "      <th id=\"T_f2f26_level0_col1\" class=\"col_heading level0 col1\" >n_missing</th>\n",
       "      <th id=\"T_f2f26_level0_col2\" class=\"col_heading level0 col2\" >n_unique</th>\n",
       "      <th id=\"T_f2f26_level0_col3\" class=\"col_heading level0 col3\" >top1</th>\n",
       "      <th id=\"T_f2f26_level0_col4\" class=\"col_heading level0 col4\" >top2</th>\n",
       "      <th id=\"T_f2f26_level0_col5\" class=\"col_heading level0 col5\" >top3</th>\n",
       "      <th id=\"T_f2f26_level0_col6\" class=\"col_heading level0 col6\" >n_others</th>\n",
       "    </tr>\n",
       "  </thead>\n",
       "  <tbody>\n",
       "    <tr>\n",
       "      <th id=\"T_f2f26_level0_row0\" class=\"row_heading level0 row0\" >0</th>\n",
       "      <td id=\"T_f2f26_row0_col0\" class=\"data row0 col0\" >DEFAULT</td>\n",
       "      <td id=\"T_f2f26_row0_col1\" class=\"data row0 col1\" >0</td>\n",
       "      <td id=\"T_f2f26_row0_col2\" class=\"data row0 col2\" >2</td>\n",
       "      <td id=\"T_f2f26_row0_col3\" class=\"data row0 col3\" >0.0 : 87139649</td>\n",
       "      <td id=\"T_f2f26_row0_col4\" class=\"data row0 col4\" >1.0 : 10122360</td>\n",
       "      <td id=\"T_f2f26_row0_col5\" class=\"data row0 col5\" >0</td>\n",
       "      <td id=\"T_f2f26_row0_col6\" class=\"data row0 col6\" >0</td>\n",
       "    </tr>\n",
       "    <tr>\n",
       "      <th id=\"T_f2f26_level0_row1\" class=\"row_heading level0 row1\" >1</th>\n",
       "      <td id=\"T_f2f26_row1_col0\" class=\"data row1 col0\" >Horizon</td>\n",
       "      <td id=\"T_f2f26_row1_col1\" class=\"data row1 col1\" >0</td>\n",
       "      <td id=\"T_f2f26_row1_col2\" class=\"data row1 col2\" >25</td>\n",
       "      <td id=\"T_f2f26_row1_col3\" class=\"data row1 col3\" >0.0 : 4689164</td>\n",
       "      <td id=\"T_f2f26_row1_col4\" class=\"data row1 col4\" >1.0 : 4619499</td>\n",
       "      <td id=\"T_f2f26_row1_col5\" class=\"data row1 col5\" >2.0 : 4549889</td>\n",
       "      <td id=\"T_f2f26_row1_col6\" class=\"data row1 col6\" >83403457</td>\n",
       "    </tr>\n",
       "    <tr>\n",
       "      <th id=\"T_f2f26_level0_row2\" class=\"row_heading level0 row2\" >2</th>\n",
       "      <td id=\"T_f2f26_row2_col0\" class=\"data row2 col0\" >FIRST TIME HOMEBUYER FLAG</td>\n",
       "      <td id=\"T_f2f26_row2_col1\" class=\"data row2 col1\" >0</td>\n",
       "      <td id=\"T_f2f26_row2_col2\" class=\"data row2 col2\" >3</td>\n",
       "      <td id=\"T_f2f26_row2_col3\" class=\"data row2 col3\" >N : 84732398</td>\n",
       "      <td id=\"T_f2f26_row2_col4\" class=\"data row2 col4\" >Y : 12525386</td>\n",
       "      <td id=\"T_f2f26_row2_col5\" class=\"data row2 col5\" >9 : 4225</td>\n",
       "      <td id=\"T_f2f26_row2_col6\" class=\"data row2 col6\" >0</td>\n",
       "    </tr>\n",
       "    <tr>\n",
       "      <th id=\"T_f2f26_level0_row3\" class=\"row_heading level0 row3\" >3</th>\n",
       "      <td id=\"T_f2f26_row3_col0\" class=\"data row3 col0\" >OCCUPANCY STATUS</td>\n",
       "      <td id=\"T_f2f26_row3_col1\" class=\"data row3 col1\" >0</td>\n",
       "      <td id=\"T_f2f26_row3_col2\" class=\"data row3 col2\" >3</td>\n",
       "      <td id=\"T_f2f26_row3_col3\" class=\"data row3 col3\" >P : 87800373</td>\n",
       "      <td id=\"T_f2f26_row3_col4\" class=\"data row3 col4\" >I : 6267074</td>\n",
       "      <td id=\"T_f2f26_row3_col5\" class=\"data row3 col5\" >S : 3194562</td>\n",
       "      <td id=\"T_f2f26_row3_col6\" class=\"data row3 col6\" >0</td>\n",
       "    </tr>\n",
       "    <tr>\n",
       "      <th id=\"T_f2f26_level0_row4\" class=\"row_heading level0 row4\" >4</th>\n",
       "      <td id=\"T_f2f26_row4_col0\" class=\"data row4 col0\" >PROPERTY TYPE</td>\n",
       "      <td id=\"T_f2f26_row4_col1\" class=\"data row4 col1\" >0</td>\n",
       "      <td id=\"T_f2f26_row4_col2\" class=\"data row4 col2\" >6</td>\n",
       "      <td id=\"T_f2f26_row4_col3\" class=\"data row4 col3\" >SF : 77961878</td>\n",
       "      <td id=\"T_f2f26_row4_col4\" class=\"data row4 col4\" >PU : 11611591</td>\n",
       "      <td id=\"T_f2f26_row4_col5\" class=\"data row4 col5\" >CO : 6234595</td>\n",
       "      <td id=\"T_f2f26_row4_col6\" class=\"data row4 col6\" >1453945</td>\n",
       "    </tr>\n",
       "    <tr>\n",
       "      <th id=\"T_f2f26_level0_row5\" class=\"row_heading level0 row5\" >5</th>\n",
       "      <td id=\"T_f2f26_row5_col0\" class=\"data row5 col0\" >LOAN PURPOSE</td>\n",
       "      <td id=\"T_f2f26_row5_col1\" class=\"data row5 col1\" >0</td>\n",
       "      <td id=\"T_f2f26_row5_col2\" class=\"data row5 col2\" >3</td>\n",
       "      <td id=\"T_f2f26_row5_col3\" class=\"data row5 col3\" >P : 37204419</td>\n",
       "      <td id=\"T_f2f26_row5_col4\" class=\"data row5 col4\" >N : 34234267</td>\n",
       "      <td id=\"T_f2f26_row5_col5\" class=\"data row5 col5\" >C : 25823323</td>\n",
       "      <td id=\"T_f2f26_row5_col6\" class=\"data row5 col6\" >0</td>\n",
       "    </tr>\n",
       "    <tr>\n",
       "      <th id=\"T_f2f26_level0_row6\" class=\"row_heading level0 row6\" >6</th>\n",
       "      <td id=\"T_f2f26_row6_col0\" class=\"data row6 col0\" >SELLER NAME</td>\n",
       "      <td id=\"T_f2f26_row6_col1\" class=\"data row6 col1\" >0</td>\n",
       "      <td id=\"T_f2f26_row6_col2\" class=\"data row6 col2\" >96</td>\n",
       "      <td id=\"T_f2f26_row6_col3\" class=\"data row6 col3\" >Other sell : 49747152</td>\n",
       "      <td id=\"T_f2f26_row6_col4\" class=\"data row6 col4\" >WELLS FARG : 6794248</td>\n",
       "      <td id=\"T_f2f26_row6_col5\" class=\"data row6 col5\" >COUNTRYWID : 3939871</td>\n",
       "      <td id=\"T_f2f26_row6_col6\" class=\"data row6 col6\" >36780738</td>\n",
       "    </tr>\n",
       "    <tr>\n",
       "      <th id=\"T_f2f26_level0_row7\" class=\"row_heading level0 row7\" >7</th>\n",
       "      <td id=\"T_f2f26_row7_col0\" class=\"data row7 col0\" >OrigDate</td>\n",
       "      <td id=\"T_f2f26_row7_col1\" class=\"data row7 col1\" >0</td>\n",
       "      <td id=\"T_f2f26_row7_col2\" class=\"data row7 col2\" >94</td>\n",
       "      <td id=\"T_f2f26_row7_col3\" class=\"data row7 col3\" >2003Q3 : 1923186</td>\n",
       "      <td id=\"T_f2f26_row7_col4\" class=\"data row7 col4\" >2003Q2 : 1767822</td>\n",
       "      <td id=\"T_f2f26_row7_col5\" class=\"data row7 col5\" >2004Q2 : 1730090</td>\n",
       "      <td id=\"T_f2f26_row7_col6\" class=\"data row7 col6\" >91840911</td>\n",
       "    </tr>\n",
       "  </tbody>\n",
       "</table>\n"
      ]
     },
     "metadata": {},
     "output_type": "display_data"
    },
    {
     "name": "stdout",
     "output_type": "stream",
     "text": [
      "Data Shape:(97262009, 18)\n"
     ]
    }
   ],
   "source": [
    "np.random.seed(12345)\n",
    "\n",
    "exp.data_summary(feature_exclude=[], feature_type={\"Horizon\":\"categorical\", \"Weight\":\"numerical\"})"
   ]
  },
  {
   "cell_type": "code",
   "execution_count": 20,
   "id": "03248f02",
   "metadata": {},
   "outputs": [
    {
     "data": {
      "application/vnd.jupyter.widget-view+json": {
       "model_id": "41d080abd38344ada18b2ff3511a4ef8",
       "version_major": 2,
       "version_minor": 0
      },
      "text/plain": [
       "HTML(value='\\n        <style>\\n\\n        .left-label {\\n            width: 30%;\\n        }\\n\\n        .card-pa…"
      ]
     },
     "metadata": {},
     "output_type": "display_data"
    },
    {
     "data": {
      "application/javascript": [
       "\n",
       "        IPython.OutputArea.prototype._should_scroll = function(lines) {\n",
       "            return false;\n",
       "        }"
      ],
      "text/plain": [
       "<IPython.core.display.Javascript object>"
      ]
     },
     "metadata": {},
     "output_type": "display_data"
    },
    {
     "data": {
      "text/html": [
       "<div>\n",
       "<style scoped>\n",
       "    .dataframe tbody tr th:only-of-type {\n",
       "        vertical-align: middle;\n",
       "    }\n",
       "\n",
       "    .dataframe tbody tr th {\n",
       "        vertical-align: top;\n",
       "    }\n",
       "\n",
       "    .dataframe thead th {\n",
       "        text-align: right;\n",
       "    }\n",
       "</style>\n",
       "<table border=\"1\" class=\"dataframe\">\n",
       "  <thead>\n",
       "    <tr style=\"text-align: right;\">\n",
       "      <th></th>\n",
       "      <th>Config</th>\n",
       "      <th>Value</th>\n",
       "    </tr>\n",
       "  </thead>\n",
       "  <tbody>\n",
       "    <tr>\n",
       "      <th>0</th>\n",
       "      <td>Excluded columns</td>\n",
       "      <td>[]</td>\n",
       "    </tr>\n",
       "    <tr>\n",
       "      <th>1</th>\n",
       "      <td>Target variable</td>\n",
       "      <td>DEFAULT</td>\n",
       "    </tr>\n",
       "    <tr>\n",
       "      <th>2</th>\n",
       "      <td>Sample weight</td>\n",
       "      <td>Weight</td>\n",
       "    </tr>\n",
       "    <tr>\n",
       "      <th>3</th>\n",
       "      <td>Task type</td>\n",
       "      <td>classification</td>\n",
       "    </tr>\n",
       "    <tr>\n",
       "      <th>4</th>\n",
       "      <td>Split method</td>\n",
       "      <td>manual</td>\n",
       "    </tr>\n",
       "    <tr>\n",
       "      <th>5</th>\n",
       "      <td>Test ratio</td>\n",
       "      <td>0.2</td>\n",
       "    </tr>\n",
       "    <tr>\n",
       "      <th>6</th>\n",
       "      <td>Random state</td>\n",
       "      <td>12345</td>\n",
       "    </tr>\n",
       "  </tbody>\n",
       "</table>\n",
       "</div>"
      ],
      "text/plain": [
       "             Config           Value\n",
       "0  Excluded columns              []\n",
       "1   Target variable         DEFAULT\n",
       "2     Sample weight          Weight\n",
       "3         Task type  classification\n",
       "4      Split method          manual\n",
       "5        Test ratio             0.2\n",
       "6      Random state           12345"
      ]
     },
     "metadata": {},
     "output_type": "display_data"
    }
   ],
   "source": [
    "np.random.seed(12345)\n",
    "\n",
    "custom_train_idx = np.arange(0, split_index)\n",
    "custom_test_idx = np.arange(split_index+1, end_test_idx)\n",
    "exp.data_prepare(target='DEFAULT', task_type='classification', sample_weight=\"Weight\",\n",
    "                train_idx=custom_train_idx, test_idx=custom_test_idx, random_state = 12345)"
   ]
  },
  {
   "cell_type": "code",
   "execution_count": 85,
   "id": "0e23550a",
   "metadata": {
    "scrolled": true
   },
   "outputs": [
    {
     "data": {
      "application/vnd.jupyter.widget-view+json": {
       "model_id": "77eaba4a38bd40b9b729e829d7f3083e",
       "version_major": 2,
       "version_minor": 0
      },
      "text/plain": [
       "HTML(value='\\n        <style>\\n\\n        .left-label {\\n            width: 30%;\\n        }\\n\\n        .card-pa…"
      ]
     },
     "metadata": {},
     "output_type": "display_data"
    },
    {
     "data": {
      "application/javascript": [
       "\n",
       "        IPython.OutputArea.prototype._should_scroll = function(lines) {\n",
       "            return false;\n",
       "        }"
      ],
      "text/plain": [
       "<IPython.core.display.Javascript object>"
      ]
     },
     "metadata": {},
     "output_type": "display_data"
    },
    {
     "data": {
      "text/html": [
       "<link rel=\"stylesheet\" href=\"https://stackpath.bootstrapcdn.com/font-awesome/4.7.0/css/font-awesome.min.css\"> "
      ],
      "text/plain": [
       "<IPython.core.display.HTML object>"
      ]
     },
     "metadata": {},
     "output_type": "display_data"
    },
    {
     "data": {
      "application/vnd.jupyter.widget-view+json": {
       "model_id": "6d8dada95bfd4145833e2ea3d822a423",
       "version_major": 2,
       "version_minor": 0
      },
      "text/plain": [
       "VBox(children=(Box(children=(Box(children=(HTML(value=\"<h4 style='margin: 10px 0px;'>Choose Model</h4>\"), Box(…"
      ]
     },
     "metadata": {},
     "output_type": "display_data"
    }
   ],
   "source": [
    "np.random.seed(12345) \n",
    "exp.model_train()"
   ]
  },
  {
   "cell_type": "code",
   "execution_count": 86,
   "id": "78f743c7",
   "metadata": {
    "scrolled": false
   },
   "outputs": [
    {
     "data": {
      "application/vnd.jupyter.widget-view+json": {
       "model_id": "b092c9b505914f70a097859ad85e1b7e",
       "version_major": 2,
       "version_minor": 0
      },
      "text/plain": [
       "HTML(value='\\n        <style>\\n\\n        .left-label {\\n            width: 30%;\\n        }\\n\\n        .card-pa…"
      ]
     },
     "metadata": {},
     "output_type": "display_data"
    },
    {
     "data": {
      "application/javascript": [
       "\n",
       "        IPython.OutputArea.prototype._should_scroll = function(lines) {\n",
       "            return false;\n",
       "        }"
      ],
      "text/plain": [
       "<IPython.core.display.Javascript object>"
      ]
     },
     "metadata": {},
     "output_type": "display_data"
    },
    {
     "data": {
      "application/vnd.jupyter.widget-view+json": {
       "model_id": "5a5881cc38b04fe5bf70836b71841f10",
       "version_major": 2,
       "version_minor": 0
      },
      "text/plain": [
       "VBox(children=(Dropdown(layout=Layout(width='20%'), options=('Select Model', 'XGB2_v2', 'XGB2'), style=Descrip…"
      ]
     },
     "metadata": {},
     "output_type": "display_data"
    }
   ],
   "source": [
    "np.random.seed(12345) \n",
    "exp.model_interpret()"
   ]
  },
  {
   "cell_type": "code",
   "execution_count": 41,
   "id": "3276a6fb",
   "metadata": {},
   "outputs": [
    {
     "data": {
      "application/vnd.jupyter.widget-view+json": {
       "model_id": "7a5aaf063c734ceebb66ea116dbad0b3",
       "version_major": 2,
       "version_minor": 0
      },
      "text/plain": [
       "HTML(value='\\n        <style>\\n\\n        .left-label {\\n            width: 30%;\\n        }\\n\\n        .card-pa…"
      ]
     },
     "metadata": {},
     "output_type": "display_data"
    },
    {
     "data": {
      "application/javascript": [
       "\n",
       "        IPython.OutputArea.prototype._should_scroll = function(lines) {\n",
       "            return false;\n",
       "        }"
      ],
      "text/plain": [
       "<IPython.core.display.Javascript object>"
      ]
     },
     "metadata": {},
     "output_type": "display_data"
    },
    {
     "data": {
      "application/vnd.jupyter.widget-view+json": {
       "model_id": "55e3800d7cab41a29b8874813eb789ce",
       "version_major": 2,
       "version_minor": 0
      },
      "text/plain": [
       "VBox(children=(Dropdown(layout=Layout(width='20%'), options=('Select Model', 'XGB2_v2'), style=DescriptionStyl…"
      ]
     },
     "metadata": {},
     "output_type": "display_data"
    }
   ],
   "source": [
    "exp.model_diagnose()"
   ]
  },
  {
   "cell_type": "code",
   "execution_count": 69,
   "id": "e844ebdd",
   "metadata": {},
   "outputs": [
    {
     "data": {
      "application/vnd.jupyter.widget-view+json": {
       "model_id": "329f5b8c1bfb49eb9ebcc3a14e711f69",
       "version_major": 2,
       "version_minor": 0
      },
      "text/plain": [
       "HTML(value='\\n        <style>\\n\\n        .left-label {\\n            width: 30%;\\n        }\\n\\n        .card-pa…"
      ]
     },
     "metadata": {},
     "output_type": "display_data"
    },
    {
     "data": {
      "application/javascript": [
       "\n",
       "        IPython.OutputArea.prototype._should_scroll = function(lines) {\n",
       "            return false;\n",
       "        }"
      ],
      "text/plain": [
       "<IPython.core.display.Javascript object>"
      ]
     },
     "metadata": {},
     "output_type": "display_data"
    },
    {
     "name": "stdout",
     "output_type": "stream",
     "text": [
      "Confusion Matrix:\n",
      "[[7477047.08607966 2224061.41208112]\n",
      " [4764990.50592661 5178297.65978575]]\n"
     ]
    },
    {
     "data": {
      "text/plain": [
       "0.5970717135959045"
      ]
     },
     "execution_count": 69,
     "metadata": {},
     "output_type": "execute_result"
    },
    {
     "data": {
      "image/png": "[encoded data removed]",
      "text/plain": [
       "<Figure size 640x480 with 2 Axes>"
      ]
     },
     "metadata": {},
     "output_type": "display_data"
    }
   ],
   "source": [
    "# Manually computing accuracy metrics due to PiML model diagnose error\n",
    "from sklearn.metrics import confusion_matrix, ConfusionMatrixDisplay, f1_score, precision_recall_curve\n",
    "np.random.seed(12345) \n",
    "np.set_printoptions(suppress=False)\n",
    "\n",
    "model = exp.get_model('XGB2_v2')\n",
    "test_data1 = full_timeseries.loc[split_index + 1:end_test_idx]\n",
    "test_data1.drop(columns=['Weight','DEFAULT'], inplace=True)\n",
    "pred_value = model.predict(test_data1) \n",
    "\n",
    "test_data = full_timeseries.loc[split_index + 1:end_test_idx]\n",
    "true_value = test_data['DEFAULT']\n",
    "conf_matrix = confusion_matrix(true_value, pred_value, sample_weight = test_data[\"Weight\"])\n",
    "\n",
    "print(\"Confusion Matrix:\")\n",
    "print(conf_matrix)\n",
    "\n",
    "classes = test_data['DEFAULT'].unique()\n",
    "disp = ConfusionMatrixDisplay(confusion_matrix=conf_matrix,\n",
    "                              display_labels=classes)\n",
    "disp.plot(values_format='')\n",
    "\n",
    "\n",
    "f1_score(true_value, pred_value,sample_weight = test_data[\"Weight\"])"
   ]
  },
  {
   "cell_type": "code",
   "execution_count": 80,
   "id": "044c5346",
   "metadata": {},
   "outputs": [
    {
     "data": {
      "application/vnd.jupyter.widget-view+json": {
       "model_id": "dd5512d7f1a64259a4d44652afd4fd41",
       "version_major": 2,
       "version_minor": 0
      },
      "text/plain": [
       "HTML(value='\\n        <style>\\n\\n        .left-label {\\n            width: 30%;\\n        }\\n\\n        .card-pa…"
      ]
     },
     "metadata": {},
     "output_type": "display_data"
    },
    {
     "data": {
      "application/javascript": [
       "\n",
       "        IPython.OutputArea.prototype._should_scroll = function(lines) {\n",
       "            return false;\n",
       "        }"
      ],
      "text/plain": [
       "<IPython.core.display.Javascript object>"
      ]
     },
     "metadata": {},
     "output_type": "display_data"
    },
    {
     "data": {
      "image/png": "[encoded data removed]",
      "text/plain": [
       "<Figure size 1500x800 with 1 Axes>"
      ]
     },
     "metadata": {},
     "output_type": "display_data"
    }
   ],
   "source": [
    "import matplotlib.pyplot as plt\n",
    "import pandas as pd\n",
    "\n",
    "# To adjust oversampling\n",
    "pred_value2 = model.predict(test_data1)-0.2\n",
    "\n",
    "# Aggregate the actual default rates by Horizon\n",
    "actual_by_horizon = test_data.groupby('Horizon')['DEFAULT'].mean()\n",
    "\n",
    "# Aggregate the predicted default rates by Horizon\n",
    "pred_by_horizon = pd.Series(pred_value2, index=test_data.index).groupby(test_data['Horizon']).mean()\n",
    "\n",
    "# Plot the actual vs predicted default rates over time\n",
    "plt.figure(figsize=(15, 8))\n",
    "plt.plot(actual_by_horizon.index, actual_by_horizon.values, label='Actual Default Rate', color='orange')\n",
    "plt.plot(pred_by_horizon.index, pred_by_horizon.values, label='Predicted Default Rate', color='blue')\n",
    "\n",
    "plt.title('Predicted vs Actual Default Rate Over 24 Horizon')\n",
    "plt.xlabel('Horizon')\n",
    "plt.ylabel('Probability of Default')\n",
    "plt.legend()\n",
    "plt.show()"
   ]
  },
  {
   "cell_type": "code",
   "execution_count": 81,
   "id": "520f26f4",
   "metadata": {},
   "outputs": [
    {
     "data": {
      "application/vnd.jupyter.widget-view+json": {
       "model_id": "a7479af9c41c4e16bc1b96bbdc7c8021",
       "version_major": 2,
       "version_minor": 0
      },
      "text/plain": [
       "HTML(value='\\n        <style>\\n\\n        .left-label {\\n            width: 30%;\\n        }\\n\\n        .card-pa…"
      ]
     },
     "metadata": {},
     "output_type": "display_data"
    },
    {
     "data": {
      "application/javascript": [
       "\n",
       "        IPython.OutputArea.prototype._should_scroll = function(lines) {\n",
       "            return false;\n",
       "        }"
      ],
      "text/plain": [
       "<IPython.core.display.Javascript object>"
      ]
     },
     "metadata": {},
     "output_type": "display_data"
    },
    {
     "data": {
      "image/png": "[encoded data removed]",
      "text/plain": [
       "<Figure size 1500x800 with 1 Axes>"
      ]
     },
     "metadata": {},
     "output_type": "display_data"
    }
   ],
   "source": [
    "import matplotlib.pyplot as plt\n",
    "import pandas as pd\n",
    "\n",
    "# Aggregate the actual default rates by Horizon\n",
    "actual_by_horizon = test_data.groupby('Horizon')['DEFAULT'].mean()\n",
    "\n",
    "# Aggregate the predicted default rates by Horizon\n",
    "pred_by_horizon = pd.Series(pred_value, index=test_data.index).groupby(test_data['Horizon']).mean()\n",
    "\n",
    "# Plot the actual vs predicted default rates over time\n",
    "plt.figure(figsize=(15, 8))\n",
    "plt.plot(actual_by_horizon.index, actual_by_horizon.values, label='Actual Default Rate', color='orange')\n",
    "plt.plot(pred_by_horizon.index, pred_by_horizon.values, label='Predicted Default Rate', color='blue')\n",
    "\n",
    "plt.title('Predicted vs Actual Default Rate Over 24 Horizon')\n",
    "plt.xlabel('Horizon')\n",
    "plt.ylabel('Probability of Default')\n",
    "plt.legend()\n",
    "plt.show()"
   ]
  },
  {
   "cell_type": "code",
   "execution_count": 82,
   "id": "0ab85515",
   "metadata": {},
   "outputs": [
    {
     "data": {
      "application/vnd.jupyter.widget-view+json": {
       "model_id": "beec8c05cb274d46818f497be09d4b26",
       "version_major": 2,
       "version_minor": 0
      },
      "text/plain": [
       "HTML(value='\\n        <style>\\n\\n        .left-label {\\n            width: 30%;\\n        }\\n\\n        .card-pa…"
      ]
     },
     "metadata": {},
     "output_type": "display_data"
    },
    {
     "data": {
      "application/javascript": [
       "\n",
       "        IPython.OutputArea.prototype._should_scroll = function(lines) {\n",
       "            return false;\n",
       "        }"
      ],
      "text/plain": [
       "<IPython.core.display.Javascript object>"
      ]
     },
     "metadata": {},
     "output_type": "display_data"
    },
    {
     "data": {
      "image/png": "[encoded data removed]",
      "text/plain": [
       "<Figure size 1500x800 with 1 Axes>"
      ]
     },
     "metadata": {},
     "output_type": "display_data"
    }
   ],
   "source": [
    "import matplotlib.pyplot as plt\n",
    "import pandas as pd\n",
    "\n",
    "# To adjust oversampling\n",
    "pred_value2 = model.predict(test_data1) - 0.2\n",
    "\n",
    "test_data['Horizon'] = pd.to_numeric(test_data['Horizon'], errors='coerce')\n",
    "\n",
    "# Aggregate the actual default rates by Horizon\n",
    "actual_by_horizon = test_data.groupby('Horizon')['DEFAULT'].mean().sort_index()\n",
    "\n",
    "# Aggregate the predicted default rates by Horizon\n",
    "pred_by_horizon = pd.Series(pred_value2, index=test_data.index).groupby(test_data['Horizon']).mean().sort_index()\n",
    "\n",
    "# Plot the actual vs predicted default rates over time\n",
    "plt.figure(figsize=(15, 8))\n",
    "plt.plot(actual_by_horizon.index, actual_by_horizon.values, label='Actual Default Rate', color='orange')\n",
    "plt.plot(pred_by_horizon.index, pred_by_horizon.values, label='Predicted Default Rate', color='blue')\n",
    "\n",
    "plt.title('Predicted vs Actual Default Rate Over Time')\n",
    "plt.xlabel('Horizon')\n",
    "plt.ylabel('Probability of Default')\n",
    "plt.legend()\n",
    "plt.show()"
   ]
  }
 ],
 "metadata": {
  "kernelspec": {
   "display_name": "Python 3 (ipykernel)",
   "language": "python",
   "name": "python3"
  },
  "language_info": {
   "codemirror_mode": {
    "name": "ipython",
    "version": 3
   },
   "file_extension": ".py",
   "mimetype": "text/x-python",
   "name": "python",
   "nbconvert_exporter": "python",
   "pygments_lexer": "ipython3",
   "version": "3.9.7"
  }
 },
 "nbformat": 4,
 "nbformat_minor": 5
}
